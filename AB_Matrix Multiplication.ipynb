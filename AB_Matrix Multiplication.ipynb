{
 "cells": [
  {
   "cell_type": "code",
   "execution_count": 1,
   "id": "46807b32",
   "metadata": {},
   "outputs": [],
   "source": [
    "import numpy as np\n",
    "import sympy as sp"
   ]
  },
  {
   "cell_type": "code",
   "execution_count": 33,
   "id": "e6d42b3c",
   "metadata": {
    "scrolled": false
   },
   "outputs": [
    {
     "name": "stdout",
     "output_type": "stream",
     "text": [
      "Enter the dimention of the matrix: 3\n",
      "0 = 1\n",
      "1 = 2\n",
      "2 = 3\n",
      "3 = 4\n",
      "4 = 5\n",
      "5 = 6\n",
      "6 = 7\n",
      "7 = 8\n",
      "8 = 9\n",
      "3\n",
      "[[1 2 3]\n",
      " [4 5 6]\n",
      " [7 8 9]]\n",
      "Please enter power of a matrix = 3\n"
     ]
    },
    {
     "data": {
      "text/latex": [
       "$\\displaystyle \\left[\\begin{matrix}468 & 576 & 684\\\\1062 & 1305 & 1548\\\\1656 & 2034 & 2412\\end{matrix}\\right]$"
      ],
      "text/plain": [
       "Matrix([\n",
       "[ 468,  576,  684],\n",
       "[1062, 1305, 1548],\n",
       "[1656, 2034, 2412]])"
      ]
     },
     "execution_count": 33,
     "metadata": {},
     "output_type": "execute_result"
    }
   ],
   "source": [
    "mat_dim = int(input(\"Enter the dimention of the matrix: \"))\n",
    "A = np.array([int(input(f\"{i} = \")) for i in range(mat_dim*mat_dim)]).reshape(mat_dim,mat_dim)\n",
    "\n",
    "print(mat_dim)\n",
    "print(A)\n",
    "\n",
    "n = int(input(\"Please enter power of a matrix = \"))\n",
    "\n",
    "# Convert a matrix to sympy Matrix format for multiplication\n",
    "A = sp.Matrix(sp.simplify(A))\n",
    "B = sp.Matrix(sp.simplify(A))\n",
    "\n",
    "\n",
    "for i in range(n-1):\n",
    "    A = sp.Matrix(sp.simplify(A*B))\n",
    "\n",
    "    \n",
    "A"
   ]
  },
  {
   "cell_type": "code",
   "execution_count": null,
   "id": "a2441944",
   "metadata": {},
   "outputs": [],
   "source": []
  },
  {
   "cell_type": "markdown",
   "id": "9853d354",
   "metadata": {},
   "source": [
    "# Jacobi And Gaussian"
   ]
  },
  {
   "cell_type": "code",
   "execution_count": 100,
   "id": "2da6795f",
   "metadata": {},
   "outputs": [
    {
     "name": "stdout",
     "output_type": "stream",
     "text": [
      "Enter the dimention of the matrix: 3\n",
      "0 = 20\n",
      "1 = 1\n",
      "2 = -2\n",
      "3 = 3\n",
      "4 = 20\n",
      "5 = -1\n",
      "6 = 2\n",
      "7 = -3\n",
      "8 = 20\n",
      "Enter the vectors\n",
      "\n",
      "v[0] = 17\n",
      "v[1] = -18\n",
      "v[2] = 25\n",
      "[17, -18, 25]\n",
      "[[20  1 -2]\n",
      " [ 3 20 -1]\n",
      " [ 2 -3 20]]\n"
     ]
    }
   ],
   "source": [
    "mat_dim = int(input(\"Enter the dimention of the matrix: \"))\n",
    "a = np.array([int(input(f\"{i} = \")) for i in range(mat_dim*mat_dim)]).reshape(mat_dim,mat_dim)\n",
    "\n",
    "print(\"Enter the vectors\\n\")\n",
    "v = [int(input(f\"v[{i}] = \")) for i in range(mat_dim)]\n",
    "print(v)\n",
    "print(a)\n"
   ]
  },
  {
   "cell_type": "code",
   "execution_count": 101,
   "id": "d025e37b",
   "metadata": {},
   "outputs": [
    {
     "data": {
      "text/plain": [
       "array([[20,  1, -2],\n",
       "       [ 3, 20, -1],\n",
       "       [ 2, -3, 20]])"
      ]
     },
     "execution_count": 101,
     "metadata": {},
     "output_type": "execute_result"
    }
   ],
   "source": [
    "b = a.copy()\n",
    "b"
   ]
  },
  {
   "cell_type": "code",
   "execution_count": 102,
   "id": "796bbcb5",
   "metadata": {},
   "outputs": [
    {
     "data": {
      "text/plain": [
       "array([[-20,  -1,   2],\n",
       "       [ -3, -20,   1],\n",
       "       [ -2,   3, -20]])"
      ]
     },
     "execution_count": 102,
     "metadata": {},
     "output_type": "execute_result"
    }
   ],
   "source": [
    "for i in range(mat_dim):\n",
    "    for j in range(mat_dim):\n",
    "        b[i][j] = a[i][j]*-1\n",
    "        \n",
    "b"
   ]
  },
  {
   "cell_type": "code",
   "execution_count": 105,
   "id": "af0259b7",
   "metadata": {},
   "outputs": [
    {
     "name": "stdout",
     "output_type": "stream",
     "text": [
      "0\n",
      "0\n",
      "0\n"
     ]
    },
    {
     "data": {
      "text/plain": [
       "[0, 0, 0]"
      ]
     },
     "execution_count": 105,
     "metadata": {},
     "output_type": "execute_result"
    }
   ],
   "source": [
    "guess = [int(input()) for i in range(mat_dim)]\n",
    "guess\n",
    "\n",
    "# for i in range(mat_dim):\n",
    "    "
   ]
  },
  {
   "cell_type": "code",
   "execution_count": 109,
   "id": "78085d97",
   "metadata": {},
   "outputs": [
    {
     "name": "stdout",
     "output_type": "stream",
     "text": [
      "Please enter number of iterrations: 3\n",
      "Iteration 0\n",
      "[0.999999993778556, -1.0000000821289652, 0.999999950788666]\n",
      "Iteration 1\n",
      "[0.9999999991853148, -1.000000002338364, 0.9999999997307139]\n",
      "Iteration 2\n",
      "[1.0000000000899896, -1.0000000000269629, 0.9999999999869565]\n"
     ]
    }
   ],
   "source": [
    "l = []\n",
    "guess1 = guess.copy()\n",
    "itterations = int(input('Please enter number of iterrations: '))\n",
    "\n",
    "for i in range(itterations):\n",
    "    print(f\"Iteration {i}\")\n",
    "    for r in range(mat_dim):\n",
    "        s = 0    \n",
    "        for c in range(mat_dim):\n",
    "            if r!=c:\n",
    "                s = s+b[r][c]*guess[c]\n",
    "                \n",
    "        guess1[r] = (v[r]+s)/(b[r][r]*-1) \n",
    "\n",
    "#         print(f\"Div = {b[r][r]}\")\n",
    "#         print(f\"sum = {s}\\n\")\n",
    "    \n",
    "    print(guess1)\n",
    "    guess = guess1\n",
    "\n",
    "            "
   ]
  },
  {
   "cell_type": "code",
   "execution_count": null,
   "id": "4cbeb49b",
   "metadata": {},
   "outputs": [],
   "source": []
  },
  {
   "cell_type": "markdown",
   "id": "8dc56b67",
   "metadata": {},
   "source": [
    "# Gaussian"
   ]
  },
  {
   "cell_type": "code",
   "execution_count": 108,
   "id": "aeb194d3",
   "metadata": {},
   "outputs": [
    {
     "name": "stdout",
     "output_type": "stream",
     "text": [
      "0\n",
      "0\n",
      "0\n",
      "Please enter number of iterrations: 4\n",
      "Iteration 0\n",
      "[0.85, -1.0275, 1.010875]\n",
      "Iteration 1\n",
      "[1.0024625, -0.999825625, 0.99977990625]\n",
      "Iteration 2\n",
      "[0.999969271875, -1.00000639546875, 1.0000021134921875]\n",
      "Iteration 3\n",
      "[1.0000005311226563, -0.9999999739937891, 0.999999950788666]\n"
     ]
    }
   ],
   "source": [
    "guess = [int(input()) for i in range(mat_dim)]\n",
    "guess\n",
    "\n",
    "l = []\n",
    "itterations = int(input('Please enter number of iterrations: '))\n",
    "\n",
    "for i in range(itterations):\n",
    "    print(f\"Iteration {i}\")\n",
    "    for r in range(mat_dim):\n",
    "        s = 0    \n",
    "        for c in range(mat_dim):\n",
    "            if r!=c:\n",
    "                s = s+b[r][c]*guess[c]\n",
    "                \n",
    "        guess[r] = (v[r]+s)/(b[r][r]*-1) \n",
    "\n",
    "#         print(f\"Div = {b[r][r]}\")\n",
    "#         print(f\"sum = {s}\\n\")\n",
    "    \n",
    "    print(guess)\n"
   ]
  },
  {
   "cell_type": "code",
   "execution_count": null,
   "id": "0c71ea1e",
   "metadata": {},
   "outputs": [],
   "source": []
  }
 ],
 "metadata": {
  "kernelspec": {
   "display_name": "Python 3 (ipykernel)",
   "language": "python",
   "name": "python3"
  },
  "language_info": {
   "codemirror_mode": {
    "name": "ipython",
    "version": 3
   },
   "file_extension": ".py",
   "mimetype": "text/x-python",
   "name": "python",
   "nbconvert_exporter": "python",
   "pygments_lexer": "ipython3",
   "version": "3.10.9"
  }
 },
 "nbformat": 4,
 "nbformat_minor": 5
}
