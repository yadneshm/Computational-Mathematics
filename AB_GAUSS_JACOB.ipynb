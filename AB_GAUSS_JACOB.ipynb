{
 "cells": [
  {
   "cell_type": "code",
   "execution_count": 22,
   "id": "eaa9335b",
   "metadata": {},
   "outputs": [
    {
     "name": "stdout",
     "output_type": "stream",
     "text": [
      "Enter the dimention of the matrix: 3\n",
      "\n",
      "Enter the values of matrix.\n",
      "0 = 12\n",
      "1 = 3\n",
      "2 = -5\n",
      "3 = 1\n",
      "4 = 5\n",
      "5 = 3\n",
      "6 = 3\n",
      "7 = 7\n",
      "8 = 13\n",
      "Enter the vectors\n",
      "\n",
      "v[0] = 1\n",
      "v[1] = 28\n",
      "v[2] = 76\n",
      "[1, 28, 76]\n",
      "[[12  3 -5]\n",
      " [ 1  5  3]\n",
      " [ 3  7 13]]\n"
     ]
    }
   ],
   "source": [
    "import numpy as np\n",
    "\n",
    "mat_dim = int(input(\"Enter the dimention of the matrix: \"))\n",
    "print(\"\\nEnter the values of matrix.\")\n",
    "a = np.array([int(input(f\"{i} = \")) for i in range(mat_dim*mat_dim)]).reshape(mat_dim,mat_dim)\n",
    "\n",
    "print(\"Enter the vectors\\n\")\n",
    "v = [int(input(f\"v[{i}] = \")) for i in range(mat_dim)]\n",
    "print(v)\n",
    "print(a)\n",
    "\n",
    "# Change the signs of a matrix for further use\n",
    "for i in range(mat_dim):\n",
    "    for j in range(mat_dim):\n",
    "        a[i][j] = a[i][j]*-1\n",
    "        "
   ]
  },
  {
   "cell_type": "code",
   "execution_count": 23,
   "id": "6bbb6913",
   "metadata": {},
   "outputs": [],
   "source": [
    "def jacob(matrix,v):\n",
    "    print(\"Enter initial guess:\")\n",
    "    print(\"\")\n",
    "    guess = [int(input()) for i in range(mat_dim)]\n",
    "    print(guess)\n",
    "    guess1 = guess.copy()\n",
    "    itterations = int(input('\\nIterrations = '))\n",
    "\n",
    "    for i in range(itterations):\n",
    "        for r in range(mat_dim):\n",
    "            s = 0    \n",
    "            for c in range(mat_dim):\n",
    "                if r!=c:\n",
    "                    s = s+matrix[r][c]*guess[c]\n",
    "\n",
    "            guess1[r] = (v[r]+s)/(matrix[r][r]*-1) \n",
    "\n",
    "\n",
    "        print(guess1)\n",
    "        guess = guess1"
   ]
  },
  {
   "cell_type": "code",
   "execution_count": 24,
   "id": "cd2dfaa9",
   "metadata": {},
   "outputs": [
    {
     "name": "stdout",
     "output_type": "stream",
     "text": [
      "Enter initial guess:\n",
      "\n",
      "0\n",
      "0\n",
      "0\n",
      "[0, 0, 0]\n",
      "\n",
      "Iterrations = 5\n",
      "[0.08333333333333333, 5.6, 5.846153846153846]\n",
      "[1.1192307692307695, 1.868461538461539, 4.581775147928994]\n",
      "[1.525290927021696, 2.5458767258382644, 4.123306933697466]\n",
      "[1.164908707581045, 2.8930340982653115, 4.01954116841536]\n",
      "[1.034883628940072, 2.9812985731627695, 4.002019930849261]\n"
     ]
    }
   ],
   "source": [
    "jacob(a,v)"
   ]
  },
  {
   "cell_type": "code",
   "execution_count": 25,
   "id": "b306fd23",
   "metadata": {},
   "outputs": [],
   "source": [
    "def gaussian(matrix,v):\n",
    "    print(\"Enter initial guess:\")\n",
    "    print(\"\")\n",
    "    guess = [int(input()) for i in range(mat_dim)]\n",
    "    print(guess)\n",
    "    itterations = int(input('\\nIterrations = '))\n",
    "\n",
    "    for i in range(itterations):\n",
    "        for r in range(mat_dim):\n",
    "            s = 0    \n",
    "            for c in range(mat_dim):\n",
    "                if r!=c:\n",
    "                    s = s+matrix[r][c]*guess[c]\n",
    "\n",
    "            guess[r] = (v[r]+s)/(matrix[r][r]*-1) \n",
    "\n",
    "\n",
    "        print(guess)"
   ]
  },
  {
   "cell_type": "code",
   "execution_count": 27,
   "id": "29ba97df",
   "metadata": {},
   "outputs": [
    {
     "name": "stdout",
     "output_type": "stream",
     "text": [
      "Enter initial guess:\n",
      "\n",
      "1\n",
      "0\n",
      "1\n",
      "[1, 0, 1]\n",
      "\n",
      "Iterrations = 5\n",
      "[0.5, 4.9, 3.092307692307692]\n",
      "[0.14679487179487158, 3.7152564102564107, 3.811755424063116]\n",
      "[0.7427506574621955, 3.164396614069691, 3.9708439791635053]\n",
      "[0.946752504467371, 3.0281431116084225, 3.997133900410687]\n",
      "[0.9917700139356808, 3.003365656966452, 4.000086950725215]\n"
     ]
    }
   ],
   "source": [
    "gaussian(a,v)"
   ]
  },
  {
   "cell_type": "code",
   "execution_count": null,
   "id": "025f6411",
   "metadata": {},
   "outputs": [],
   "source": []
  }
 ],
 "metadata": {
  "kernelspec": {
   "display_name": "Python 3 (ipykernel)",
   "language": "python",
   "name": "python3"
  },
  "language_info": {
   "codemirror_mode": {
    "name": "ipython",
    "version": 3
   },
   "file_extension": ".py",
   "mimetype": "text/x-python",
   "name": "python",
   "nbconvert_exporter": "python",
   "pygments_lexer": "ipython3",
   "version": "3.10.9"
  }
 },
 "nbformat": 4,
 "nbformat_minor": 5
}
