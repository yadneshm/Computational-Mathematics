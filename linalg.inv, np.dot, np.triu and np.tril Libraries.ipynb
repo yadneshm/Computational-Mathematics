{
 "cells": [
  {
   "cell_type": "code",
   "execution_count": 1,
   "id": "213621c9",
   "metadata": {},
   "outputs": [],
   "source": [
    "import numpy as np"
   ]
  },
  {
   "cell_type": "code",
   "execution_count": 18,
   "id": "ebb80092",
   "metadata": {},
   "outputs": [
    {
     "name": "stdout",
     "output_type": "stream",
     "text": [
      "[[[[1 2]\n",
      "   [3 4]]\n",
      "\n",
      "  [[4 6]\n",
      "   [4 5]]]]\n"
     ]
    }
   ],
   "source": [
    "# a = np.array([[1,2],[3,4]])\n",
    "a = np.array([[[[1,2],[3,4]],[[4,6],[4,5]]]])\n",
    "print(a)"
   ]
  },
  {
   "cell_type": "markdown",
   "id": "921e2106",
   "metadata": {},
   "source": [
    "## Inverse the matrix use linalg.inv"
   ]
  },
  {
   "cell_type": "code",
   "execution_count": 19,
   "id": "dbd0d35a",
   "metadata": {},
   "outputs": [
    {
     "name": "stdout",
     "output_type": "stream",
     "text": [
      "[[[[-2.    1.  ]\n",
      "   [ 1.5  -0.5 ]]\n",
      "\n",
      "  [[-1.25  1.5 ]\n",
      "   [ 1.   -1.  ]]]]\n"
     ]
    }
   ],
   "source": [
    "inv_a  = np.linalg.inv(a)\n",
    "print(inv_a)"
   ]
  },
  {
   "cell_type": "markdown",
   "id": "72d9f0c4",
   "metadata": {},
   "source": [
    "## Multiply two matrix"
   ]
  },
  {
   "cell_type": "code",
   "execution_count": 14,
   "id": "7e78270e",
   "metadata": {},
   "outputs": [
    {
     "data": {
      "text/plain": [
       "True"
      ]
     },
     "execution_count": 14,
     "metadata": {},
     "output_type": "execute_result"
    }
   ],
   "source": [
    "# np.allclose shows True when both the matrix are not same\n",
    "\n",
    "np.allclose(np.dot(a,inv_a),np.eye(2))"
   ]
  },
  {
   "cell_type": "code",
   "execution_count": 15,
   "id": "13fca86c",
   "metadata": {},
   "outputs": [
    {
     "data": {
      "text/plain": [
       "array([[1.00000000e+00, 1.11022302e-16],\n",
       "       [0.00000000e+00, 1.00000000e+00]])"
      ]
     },
     "execution_count": 15,
     "metadata": {},
     "output_type": "execute_result"
    }
   ],
   "source": [
    "mul_a = np.dot(a,inv_a)\n",
    "mul_a"
   ]
  },
  {
   "cell_type": "markdown",
   "id": "faa24664",
   "metadata": {},
   "source": [
    "## np.tril or np.triu"
   ]
  },
  {
   "cell_type": "code",
   "execution_count": 32,
   "id": "89fef60f",
   "metadata": {},
   "outputs": [
    {
     "name": "stdout",
     "output_type": "stream",
     "text": [
      "[[1 2 3]\n",
      " [4 5 6]\n",
      " [7 8 9]]\n"
     ]
    }
   ],
   "source": [
    "l = [i for i in range(1,10)]\n",
    "\n",
    "a = np.array(l).reshape(3,3)\n",
    "print(a)"
   ]
  },
  {
   "cell_type": "code",
   "execution_count": 33,
   "id": "cc3989a7",
   "metadata": {},
   "outputs": [
    {
     "data": {
      "text/plain": [
       "array([[1, 0, 0],\n",
       "       [4, 5, 0],\n",
       "       [7, 8, 9]])"
      ]
     },
     "execution_count": 33,
     "metadata": {},
     "output_type": "execute_result"
    }
   ],
   "source": [
    "np.tril(a,0)"
   ]
  },
  {
   "cell_type": "code",
   "execution_count": 34,
   "id": "fb81799a",
   "metadata": {},
   "outputs": [
    {
     "data": {
      "text/plain": [
       "array([[0, 2, 3],\n",
       "       [0, 0, 6],\n",
       "       [0, 0, 0]])"
      ]
     },
     "execution_count": 34,
     "metadata": {},
     "output_type": "execute_result"
    }
   ],
   "source": [
    "np.triu(a,1)"
   ]
  },
  {
   "cell_type": "code",
   "execution_count": null,
   "id": "b8fcc016",
   "metadata": {},
   "outputs": [],
   "source": []
  }
 ],
 "metadata": {
  "kernelspec": {
   "display_name": "Python 3 (ipykernel)",
   "language": "python",
   "name": "python3"
  },
  "language_info": {
   "codemirror_mode": {
    "name": "ipython",
    "version": 3
   },
   "file_extension": ".py",
   "mimetype": "text/x-python",
   "name": "python",
   "nbconvert_exporter": "python",
   "pygments_lexer": "ipython3",
   "version": "3.10.9"
  }
 },
 "nbformat": 4,
 "nbformat_minor": 5
}
