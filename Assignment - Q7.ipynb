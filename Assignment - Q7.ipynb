{
 "cells": [
  {
   "cell_type": "markdown",
   "id": "34a47af7",
   "metadata": {},
   "source": [
    "# Q7\n",
    "## Write a Python script which implements the Jacobi method and the Gauss-Siedel method for iteratively solving a system of linear equations."
   ]
  },
  {
   "cell_type": "markdown",
   "id": "c6f50c79",
   "metadata": {},
   "source": [
    "# Import required libraries "
   ]
  },
  {
   "cell_type": "code",
   "execution_count": 8,
   "id": "15f3f7de",
   "metadata": {},
   "outputs": [],
   "source": [
    "import numpy as np"
   ]
  },
  {
   "cell_type": "markdown",
   "id": "9bbad7f9",
   "metadata": {},
   "source": [
    "# Get the matrix and vectors"
   ]
  },
  {
   "cell_type": "code",
   "execution_count": 10,
   "id": "5a9a516e",
   "metadata": {},
   "outputs": [
    {
     "ename": "KeyboardInterrupt",
     "evalue": "Interrupted by user",
     "output_type": "error",
     "traceback": [
      "\u001b[1;31m---------------------------------------------------------------------------\u001b[0m",
      "\u001b[1;31mKeyboardInterrupt\u001b[0m                         Traceback (most recent call last)",
      "Cell \u001b[1;32mIn[10], line 13\u001b[0m\n\u001b[0;32m      9\u001b[0m     \u001b[38;5;28;01mreturn\u001b[39;00m n\n\u001b[0;32m     12\u001b[0m \u001b[38;5;66;03m## Get the number of rows and columns for the SQUARE MATRIX\u001b[39;00m\n\u001b[1;32m---> 13\u001b[0m n \u001b[38;5;241m=\u001b[39m \u001b[38;5;28mint\u001b[39m(\u001b[38;5;28;43minput\u001b[39;49m\u001b[43m(\u001b[49m\u001b[38;5;124;43m\"\u001b[39;49m\u001b[38;5;124;43mPlease enter a integer value for no of rows and no of columns = \u001b[39;49m\u001b[38;5;124;43m\"\u001b[39;49m\u001b[43m)\u001b[49m)\n\u001b[0;32m     14\u001b[0m \u001b[38;5;66;03m## Condition if the value is incorrect.\u001b[39;00m\n\u001b[0;32m     15\u001b[0m \u001b[38;5;28;01mif\u001b[39;00m n\u001b[38;5;241m>\u001b[39m\u001b[38;5;241m0\u001b[39m:\n",
      "File \u001b[1;32m~\\anaconda3\\lib\\site-packages\\ipykernel\\kernelbase.py:1175\u001b[0m, in \u001b[0;36mKernel.raw_input\u001b[1;34m(self, prompt)\u001b[0m\n\u001b[0;32m   1171\u001b[0m \u001b[38;5;28;01mif\u001b[39;00m \u001b[38;5;129;01mnot\u001b[39;00m \u001b[38;5;28mself\u001b[39m\u001b[38;5;241m.\u001b[39m_allow_stdin:\n\u001b[0;32m   1172\u001b[0m     \u001b[38;5;28;01mraise\u001b[39;00m StdinNotImplementedError(\n\u001b[0;32m   1173\u001b[0m         \u001b[38;5;124m\"\u001b[39m\u001b[38;5;124mraw_input was called, but this frontend does not support input requests.\u001b[39m\u001b[38;5;124m\"\u001b[39m\n\u001b[0;32m   1174\u001b[0m     )\n\u001b[1;32m-> 1175\u001b[0m \u001b[38;5;28;01mreturn\u001b[39;00m \u001b[38;5;28;43mself\u001b[39;49m\u001b[38;5;241;43m.\u001b[39;49m\u001b[43m_input_request\u001b[49m\u001b[43m(\u001b[49m\n\u001b[0;32m   1176\u001b[0m \u001b[43m    \u001b[49m\u001b[38;5;28;43mstr\u001b[39;49m\u001b[43m(\u001b[49m\u001b[43mprompt\u001b[49m\u001b[43m)\u001b[49m\u001b[43m,\u001b[49m\n\u001b[0;32m   1177\u001b[0m \u001b[43m    \u001b[49m\u001b[38;5;28;43mself\u001b[39;49m\u001b[38;5;241;43m.\u001b[39;49m\u001b[43m_parent_ident\u001b[49m\u001b[43m[\u001b[49m\u001b[38;5;124;43m\"\u001b[39;49m\u001b[38;5;124;43mshell\u001b[39;49m\u001b[38;5;124;43m\"\u001b[39;49m\u001b[43m]\u001b[49m\u001b[43m,\u001b[49m\n\u001b[0;32m   1178\u001b[0m \u001b[43m    \u001b[49m\u001b[38;5;28;43mself\u001b[39;49m\u001b[38;5;241;43m.\u001b[39;49m\u001b[43mget_parent\u001b[49m\u001b[43m(\u001b[49m\u001b[38;5;124;43m\"\u001b[39;49m\u001b[38;5;124;43mshell\u001b[39;49m\u001b[38;5;124;43m\"\u001b[39;49m\u001b[43m)\u001b[49m\u001b[43m,\u001b[49m\n\u001b[0;32m   1179\u001b[0m \u001b[43m    \u001b[49m\u001b[43mpassword\u001b[49m\u001b[38;5;241;43m=\u001b[39;49m\u001b[38;5;28;43;01mFalse\u001b[39;49;00m\u001b[43m,\u001b[49m\n\u001b[0;32m   1180\u001b[0m \u001b[43m\u001b[49m\u001b[43m)\u001b[49m\n",
      "File \u001b[1;32m~\\anaconda3\\lib\\site-packages\\ipykernel\\kernelbase.py:1217\u001b[0m, in \u001b[0;36mKernel._input_request\u001b[1;34m(self, prompt, ident, parent, password)\u001b[0m\n\u001b[0;32m   1214\u001b[0m             \u001b[38;5;28;01mbreak\u001b[39;00m\n\u001b[0;32m   1215\u001b[0m \u001b[38;5;28;01mexcept\u001b[39;00m \u001b[38;5;167;01mKeyboardInterrupt\u001b[39;00m:\n\u001b[0;32m   1216\u001b[0m     \u001b[38;5;66;03m# re-raise KeyboardInterrupt, to truncate traceback\u001b[39;00m\n\u001b[1;32m-> 1217\u001b[0m     \u001b[38;5;28;01mraise\u001b[39;00m \u001b[38;5;167;01mKeyboardInterrupt\u001b[39;00m(\u001b[38;5;124m\"\u001b[39m\u001b[38;5;124mInterrupted by user\u001b[39m\u001b[38;5;124m\"\u001b[39m) \u001b[38;5;28;01mfrom\u001b[39;00m \u001b[38;5;28mNone\u001b[39m\n\u001b[0;32m   1218\u001b[0m \u001b[38;5;28;01mexcept\u001b[39;00m \u001b[38;5;167;01mException\u001b[39;00m:\n\u001b[0;32m   1219\u001b[0m     \u001b[38;5;28mself\u001b[39m\u001b[38;5;241m.\u001b[39mlog\u001b[38;5;241m.\u001b[39mwarning(\u001b[38;5;124m\"\u001b[39m\u001b[38;5;124mInvalid Message:\u001b[39m\u001b[38;5;124m\"\u001b[39m, exc_info\u001b[38;5;241m=\u001b[39m\u001b[38;5;28;01mTrue\u001b[39;00m)\n",
      "\u001b[1;31mKeyboardInterrupt\u001b[0m: Interrupted by user"
     ]
    }
   ],
   "source": [
    "\n",
    "## Function to change the signs of values as per requirement.\n",
    "def change_sign(n):\n",
    "    if n==0:\n",
    "        n = 0\n",
    "    elif n<0:\n",
    "        n = n*-1\n",
    "    else:\n",
    "        n = n*-1\n",
    "    return n\n",
    "\n",
    "\n",
    "## Get the number of rows and columns for the SQUARE MATRIX\n",
    "n = int(input(\"Please enter a integer value for no of rows and no of columns = \"))\n",
    "## Condition if the value is incorrect.\n",
    "if n>0:\n",
    "    no_of_elements = n*n\n",
    "elif n<0:\n",
    "    n = int(input(\"Please enter a value greater then 0 = \"))\n",
    "    if n>0:\n",
    "        no_of_elements = n*n\n",
    "    else:\n",
    "        raise TypeError(\"The value is still incorrect.\")\n",
    "\n",
    "print(f\"\\nNumber of elements required = {no_of_elements}\")\n",
    "\n",
    "mat_list = [] ## Matrix List to get the elements of the matrix\n",
    "\n",
    "print(f\"\\nEnter {no_of_elements} elements row wise.\\n\")\n",
    "\n",
    "# loop to get the n*n number of elements into the list.\n",
    "while no_of_elements>0:\n",
    "    for i in range(n):\n",
    "        for j in range(n):\n",
    "            mat_list.append(int(input(f\"[{i},{j}] position element = \")))\n",
    "            \n",
    "            no_of_elements -= 1 # Decrease no_of_elements required each iteration by 1.\n",
    "\n",
    "matrix = np.array(mat_list).reshape(n,n) # Matrix 1\n",
    "\n",
    "print(matrix)\n",
    "\n",
    "\n",
    "vectors = [] # List to get the vectors.\n",
    "\n",
    "print(\"Enter the vectors.\\n\")\n",
    "\n",
    "# Loop for getting the n number of vectors\n",
    "for i in range(n):\n",
    "    vectors.append(int(input(f\"vectors[{i}] = \")))\n",
    "    \n",
    "print(f\"vectors = {vectors}\")\n",
    "\n",
    " \n",
    "\n"
   ]
  },
  {
   "cell_type": "markdown",
   "id": "bbe98919",
   "metadata": {},
   "source": [
    "# Jacobi Method Function"
   ]
  },
  {
   "cell_type": "code",
   "execution_count": 3,
   "id": "b04fedf2",
   "metadata": {},
   "outputs": [],
   "source": [
    " def jacobi_method(matrix, vectors):\n",
    "        initial_guess = []\n",
    "\n",
    "        print(\"Enter initial guess.\\n\")\n",
    "        for i in range(n):\n",
    "            initial_guess.append(int(input(f\"guess[{i}] = \")))\n",
    "\n",
    "        print(f\"initial_guess = {initial_guess}\")\n",
    "        \n",
    "        \n",
    "            \n",
    "        no_of_itt = int(input(\"\\nEnter the number of iterations = \"))  # Number of iterations\n",
    "        print(\"\") # Start from next line.\n",
    "        # Copy the initial guess as we have to change the values after each iteration.\n",
    "        old_guess = initial_guess.copy() \n",
    "        \n",
    "        print(\"____________________________________________________________________________________________\")\n",
    "        for k in range(no_of_itt):\n",
    "            \n",
    "            print(f\"Iteration {k+1}\")\n",
    "            print(f\"Iteration values = {old_guess}\")\n",
    "\n",
    "            for i in range(n):\n",
    "                calculate = []\n",
    "                for j in range(n):\n",
    "                    if i==j:\n",
    "                        div_val = matrix[i][j]\n",
    "                        if div_val == 0:\n",
    "                            return print(f\"\\nDiagonal element value = {div_val}.\\nTherefore we can't proceed further.\")\n",
    "                        else:\n",
    "                            continue\n",
    "\n",
    "                    else: \n",
    "                        calculate.append(matrix[i][j]*old_guess[j])\n",
    "\n",
    "                calculate = [change_sign(x) for x in calculate]\n",
    "                initial_guess[i] = (vectors[i]+sum(calculate))/div_val\n",
    "\n",
    "            old_guess = initial_guess\n",
    "            print(\"____________________________________________________________________________________________\")\n",
    "\n"
   ]
  },
  {
   "cell_type": "markdown",
   "id": "65a91bdd",
   "metadata": {},
   "source": [
    "# Gauss Siedel Method Function"
   ]
  },
  {
   "cell_type": "code",
   "execution_count": 4,
   "id": "4b62808f",
   "metadata": {},
   "outputs": [],
   "source": [
    " def gauss_siedel_method(matrix, vectors):\n",
    "        guess = []\n",
    "\n",
    "        print(\"Enter initial guess.\\n\")\n",
    "        for i in range(n):\n",
    "            guess.append(int(input(f\"guess[{i}] = \")))\n",
    "\n",
    "        print(f\"guess = {guess}\")\n",
    "\n",
    "        # check whether the guess is empty or not\n",
    "        if not guess:\n",
    "            print(\"The guess is null.\")\n",
    "            guess = np.zeros(n) ## If guess is null then get the list as zeros.\n",
    "            print(guess)\n",
    "\n",
    "        else:\n",
    "            print(f\"Initial guess = {guess}\")\n",
    "\n",
    "        final_guess = []\n",
    "\n",
    "        no_of_itt = int(input(\"\\nEnter the number of iterations = \"))  # Number of iterations\n",
    "        print(\"\")\n",
    "        \n",
    "        print(\"____________________________________________________________________________________________\")\n",
    "        for k in range(no_of_itt):\n",
    "            print(f\"Iteration {k+1}\")\n",
    "\n",
    "            for i in range(n):\n",
    "                calculate = []\n",
    "                for j in range(n):\n",
    "                    if i==j:\n",
    "                        \n",
    "                        div_val = matrix[i][j]\n",
    "                    else: \n",
    "                        calculate.append(matrix[i][j]*guess[j])\n",
    "\n",
    "                calculate = [change_sign(x) for x in calculate]\n",
    "        #         print(f\"vectors = {vectors[i]}, calculate = {calculate},div_val = {div_val} \")\n",
    "                guess[i] = (vectors[i]+sum(calculate))/div_val\n",
    "\n",
    "\n",
    "            \n",
    "            print(f\"Points = {guess}\")\n",
    "            old_guess = guess\n",
    "            print(\"____________________________________________________________________________________________\")"
   ]
  },
  {
   "cell_type": "code",
   "execution_count": 5,
   "id": "a6df2643",
   "metadata": {},
   "outputs": [
    {
     "name": "stdout",
     "output_type": "stream",
     "text": [
      "Enter initial guess.\n",
      "\n",
      "guess[0] = 0\n",
      "guess[1] = 0\n",
      "guess[2] = 0\n",
      "initial_guess = [0, 0, 0]\n",
      "\n",
      "Enter the number of iterations = 4\n",
      "\n",
      "____________________________________________________________________________________________\n",
      "Iteration 1\n",
      "Iteration values = [0, 0, 0]\n",
      "____________________________________________________________________________________________\n",
      "Iteration 2\n",
      "Iteration values = [0.85, -0.9, 1.25]\n",
      "____________________________________________________________________________________________\n",
      "Iteration 3\n",
      "Iteration values = [1.02, -0.9904999999999999, 0.9994250000000001]\n",
      "____________________________________________________________________________________________\n",
      "Iteration 4\n",
      "Iteration values = [0.9994675000000001, -0.999948875, 1.00006091875]\n",
      "____________________________________________________________________________________________\n"
     ]
    }
   ],
   "source": [
    "jacobi_method(matrix,vectors)"
   ]
  },
  {
   "cell_type": "code",
   "execution_count": 7,
   "id": "dd8455f5",
   "metadata": {},
   "outputs": [
    {
     "name": "stdout",
     "output_type": "stream",
     "text": [
      "Enter initial guess.\n",
      "\n",
      "guess[0] = 0\n",
      "guess[1] = 0\n",
      "guess[2] = 0\n",
      "guess = [0, 0, 0]\n",
      "Initial guess = [0, 0, 0]\n",
      "\n",
      "Enter the number of iterations = 4\n",
      "\n",
      "____________________________________________________________________________________________\n",
      "Iteration 1\n",
      "Points = [0.85, -1.0275, 1.010875]\n",
      "____________________________________________________________________________________________\n",
      "Iteration 2\n",
      "Points = [1.0024625, -0.999825625, 0.99977990625]\n",
      "____________________________________________________________________________________________\n",
      "Iteration 3\n",
      "Points = [0.999969271875, -1.00000639546875, 1.0000021134921875]\n",
      "____________________________________________________________________________________________\n",
      "Iteration 4\n",
      "Points = [1.0000005311226563, -0.9999999739937891, 0.999999950788666]\n",
      "____________________________________________________________________________________________\n"
     ]
    }
   ],
   "source": [
    "gauss_siedel_method(matrix,vectors)"
   ]
  },
  {
   "cell_type": "code",
   "execution_count": null,
   "id": "7dcf4208",
   "metadata": {},
   "outputs": [],
   "source": []
  }
 ],
 "metadata": {
  "kernelspec": {
   "display_name": "Python 3 (ipykernel)",
   "language": "python",
   "name": "python3"
  },
  "language_info": {
   "codemirror_mode": {
    "name": "ipython",
    "version": 3
   },
   "file_extension": ".py",
   "mimetype": "text/x-python",
   "name": "python",
   "nbconvert_exporter": "python",
   "pygments_lexer": "ipython3",
   "version": "3.10.9"
  }
 },
 "nbformat": 4,
 "nbformat_minor": 5
}
