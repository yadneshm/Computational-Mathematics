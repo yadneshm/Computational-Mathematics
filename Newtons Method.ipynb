{
 "cells": [
  {
   "cell_type": "code",
   "execution_count": 3,
   "id": "20bf5bea",
   "metadata": {},
   "outputs": [
    {
     "name": "stdout",
     "output_type": "stream",
     "text": [
      "[]:.5 f] 1.5, [:e] 0.08333333333333326\n",
      "[]:.5 f] 1.4166666666666667, [:e] 0.002450980392156854\n",
      "[]:.5 f] 1.4142156862745099, [:e] 2.123899820016817e-06\n"
     ]
    }
   ],
   "source": [
    "def f ( x ) :\n",
    "    return x **2 -2\n",
    "def df ( x ) :\n",
    "    return 2* x\n",
    "def newton ( x ) :\n",
    "    return x - f ( x ) / df ( x )\n",
    "t =2 # initial guess\n",
    "while t - newton ( t ) >0.001:\n",
    "    t = newton ( t )\n",
    "    \n",
    "    print (f'[:.5 f] {t}, [:e] {abs(t - newton ( t ) ) }' )"
   ]
  },
  {
   "cell_type": "code",
   "execution_count": 4,
   "id": "cdcbb67a",
   "metadata": {},
   "outputs": [],
   "source": [
    "# print ('{:.5 f}'. format ( t ) , '{:e}'. format (abs(t - newton ( t ) ) ) )\n"
   ]
  },
  {
   "cell_type": "code",
   "execution_count": 5,
   "id": "794dc8a0",
   "metadata": {},
   "outputs": [
    {
     "name": "stdout",
     "output_type": "stream",
     "text": [
      "[:.5 f] 1.0, [:e] 0.5\n",
      "[:.5 f] 0.5, [:e] 0.25\n",
      "[:.5 f] 0.25, [:e] 0.125\n",
      "[:.5 f] 0.125, [:e] 0.0625\n",
      "[:.5 f] 0.0625, [:e] 0.03125\n",
      "[:.5 f] 0.03125, [:e] 0.015625\n",
      "[:.5 f] 0.015625, [:e] 0.0078125\n",
      "[:.5 f] 0.0078125, [:e] 0.00390625\n",
      "[:.5 f] 0.00390625, [:e] 0.001953125\n",
      "[:.5 f] 0.001953125, [:e] 0.0009765625\n"
     ]
    }
   ],
   "source": [
    "def f ( x ) :\n",
    "    return x **2\n",
    "def df ( x ) :\n",
    "    return 2* x\n",
    "def newton ( x ) :\n",
    "    return x - f ( x ) / df ( x )\n",
    "t =2 # initial guess\n",
    "while t - newton ( t ) >0.001:\n",
    "    t = newton ( t )\n",
    "    \n",
    "    print (f'[:.5 f] {t}, [:e] {abs(t - newton ( t ) ) }' )"
   ]
  },
  {
   "cell_type": "code",
   "execution_count": null,
   "id": "ee841a75",
   "metadata": {},
   "outputs": [],
   "source": []
  }
 ],
 "metadata": {
  "kernelspec": {
   "display_name": "Python 3 (ipykernel)",
   "language": "python",
   "name": "python3"
  },
  "language_info": {
   "codemirror_mode": {
    "name": "ipython",
    "version": 3
   },
   "file_extension": ".py",
   "mimetype": "text/x-python",
   "name": "python",
   "nbconvert_exporter": "python",
   "pygments_lexer": "ipython3",
   "version": "3.10.9"
  }
 },
 "nbformat": 4,
 "nbformat_minor": 5
}
