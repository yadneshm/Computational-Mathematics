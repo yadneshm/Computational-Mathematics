{
 "cells": [
  {
   "cell_type": "code",
   "execution_count": 1,
   "id": "5ee720ee",
   "metadata": {},
   "outputs": [
    {
     "name": "stdout",
     "output_type": "stream",
     "text": [
      "Hidden Layer Output: [0.59868766 0.57444252 0.66818777]\n",
      "Network Output (y_hat): 0.8061186604780743\n"
     ]
    }
   ],
   "source": [
    "import numpy as np\n",
    "\n",
    "def sigmoid(x):\n",
    "    return 1 / (1 + np.exp(-x))\n",
    "\n",
    "def neural_network_inference(W1, W2, x):\n",
    "    # Calculate the output of the hidden layer\n",
    "    a1 = sigmoid(np.dot(W1, x))\n",
    "    \n",
    "    # Calculate the network output\n",
    "    y_hat = sigmoid(np.dot(W2, a1))\n",
    "    \n",
    "    return a1, y_hat\n",
    "\n",
    "# Define the weight matrices W(1) and W(2)\n",
    "W1 = np.array([[0.4], [0.3], [0.7]])\n",
    "W2 = np.array([0.8, 0.6, 0.9])\n",
    "\n",
    "# Define the input vector x\n",
    "x = np.array([1])  # Input value for x\n",
    "\n",
    "# Calculate the output values at each node in the hidden layer and the network output\n",
    "hidden_layer_output, network_output = neural_network_inference(W1, W2, x)\n",
    "\n",
    "# Print the results\n",
    "print(\"Hidden Layer Output:\", hidden_layer_output)\n",
    "print(\"Network Output (y_hat):\", network_output)\n"
   ]
  },
  {
   "cell_type": "code",
   "execution_count": 2,
   "id": "b2606f4b",
   "metadata": {},
   "outputs": [
    {
     "name": "stdout",
     "output_type": "stream",
     "text": [
      "Hidden Layer Output: [0.59868766 0.57444252 0.66818777]\n",
      "Network Output (y_hat): 0.8061186604780743\n"
     ]
    }
   ],
   "source": [
    "import numpy as np\n",
    "\n",
    "W1 = np.array([0.4,0.3,0.7]).reshape(3,1)\n",
    "W2 = np.array([0.8, 0.6, 0.9])\n",
    "x = np.array([1])\n",
    "\n",
    "a1 = np.dot(W1,x)\n",
    "sig_a1 = 1/(1+np.exp(-a1))\n",
    "\n",
    "sig_y_hat = np.dot(W2,sig_a1)\n",
    "\n",
    "y_hat = 1/(1+np.exp(-sig_y_hat))\n",
    "\n",
    "print(\"Hidden Layer Output:\", sig_a1)\n",
    "print(\"Network Output (y_hat):\", y_hat)  "
   ]
  },
  {
   "cell_type": "markdown",
   "id": "cf515fbb",
   "metadata": {},
   "source": [
    "# Q3) a)"
   ]
  },
  {
   "cell_type": "code",
   "execution_count": 3,
   "id": "5d84a070",
   "metadata": {},
   "outputs": [
    {
     "name": "stdout",
     "output_type": "stream",
     "text": [
      "Hidden layer output is [0.59868766 0.57444252 0.66818777]\n",
      "Network layer output is 0.8061186604780743\n"
     ]
    }
   ],
   "source": [
    "def sigmoid_func(val):\n",
    "    return 1/(1+np.exp(-val))\n",
    "\n",
    "def nural_network_output(W1,W2,x):\n",
    "    \n",
    "    # First we have to calculate output of the hidden layer\n",
    "    a1 = sigmoid_func(np.dot(W1,x))\n",
    "    \n",
    "    \n",
    "    y_hat =  sigmoid_func(np.dot(W2,a1))\n",
    "    \n",
    "    return a1, y_hat\n",
    "\n",
    "W1 = np.array([0.4,0.3,0.7]).reshape(3,1)\n",
    "W2 = np.array([0.8, 0.6, 0.9])\n",
    "x = np.array([1])\n",
    "\n",
    "\n",
    "\n",
    "# Get the output values of each node in the hidden layer and the network output\n",
    "\n",
    "# Take the input as W1 and W2 as given in the question\n",
    "# \n",
    "hidden_layer, network_output = nural_network_output(W1,W2,x)\n",
    "\n",
    "\n",
    "\n",
    "print(f\"Hidden layer output is {hidden_layer}\")\n",
    "print(f\"Network layer output is {network_output}\")"
   ]
  },
  {
   "cell_type": "markdown",
   "id": "3a12a651",
   "metadata": {},
   "source": [
    "# Q3) b)"
   ]
  },
  {
   "cell_type": "code",
   "execution_count": 5,
   "id": "7bbcf732",
   "metadata": {},
   "outputs": [
    {
     "name": "stdout",
     "output_type": "stream",
     "text": [
      "Please enter number of iterations: 1000000\n",
      "Please enter the interval value to print: 100000\n",
      "Iterations is 100000. Y hat is 0.5. Loss is 0.0\n",
      "Iterations is 200000. Y hat is 0.5. Loss is 0.0\n",
      "Iterations is 300000. Y hat is 0.5. Loss is 0.0\n",
      "Iterations is 400000. Y hat is 0.5. Loss is 0.0\n",
      "Iterations is 500000. Y hat is 0.5. Loss is 0.0\n",
      "Iterations is 600000. Y hat is 0.5. Loss is 0.0\n",
      "Iterations is 700000. Y hat is 0.5. Loss is 0.0\n",
      "Iterations is 800000. Y hat is 0.5. Loss is 0.0\n",
      "Iterations is 900000. Y hat is 0.5. Loss is 0.0\n",
      "Iterations is 1000000. Y hat is 0.5. Loss is 0.0\n",
      "\n",
      "Updated W1 = [[0.4]\n",
      " [0.3]\n",
      " [0.7]]\n",
      "_________________________________________\n",
      "Updated W2 = [ 0.00824096 -0.20559177  0.16936391]\n"
     ]
    }
   ],
   "source": [
    "\n",
    "W1 = np.array([0.4,0.3,0.7]).reshape(3,1)\n",
    "W2 = np.array([0.8, 0.6, 0.9])\n",
    "x = np.array([1])\n",
    "y = 0.5\n",
    "meu = 5\n",
    "no_of_iterations = int(input(\"Please enter number of iterations: \"))\n",
    "display_interval = int(input(\"Please enter the interval value to print: \"))\n",
    "\n",
    "def grad_descent_func(W1,W2,x,meu,y,no_of_iterations,interval):\n",
    "    for i in range(no_of_iterations):\n",
    "\n",
    "\n",
    "        # First find the output of hidden layer\n",
    "        a1 = sigmoid_func(np.dot(W1,x))\n",
    "        \n",
    "        # The output of the network\n",
    "        y_hat = sigmoid_func(np.dot(W2,a1))\n",
    "\n",
    "\n",
    "        # Now we have to calculate mean-square error loss function\n",
    "        mse_loss = np.square(np.subtract(y,y_hat)).mean()\n",
    "\n",
    "\n",
    "        # Calculate Gradieants for MSE, W1 & W2\n",
    "        \n",
    "        # The formula is\n",
    "        grad_mse = 2 * np.subtract(y_hat,y)\n",
    "\n",
    "        grad_W2 = grad_mse * a1 * (1-a1)\n",
    "        grad_W1 = np.outer(W2 * grad_mse * a1 * (1 - a1), x * (1 - x))\n",
    "\n",
    "        # Update the weights\n",
    "        W1 = np.subtract(W1,(meu*grad_W1))\n",
    "        W2 = np.subtract(W2,(meu*grad_W2))\n",
    "        if (i+1)%interval == 0:\n",
    "            print(f\"Iterations is {i+1}. Y hat is {y_hat}. Loss is {mse_loss}\")\n",
    "        \n",
    "    return W1,W2\n",
    "\n",
    "\n",
    "updated_W1, updated_W2 = grad_descent_func(W1,W2,x,meu,y,no_of_iterations,display_interval)\n",
    "print(f\"\\nUpdated W1 = {updated_W1}\\n_________________________________________\\nUpdated W2 = {updated_W2}\")"
   ]
  },
  {
   "cell_type": "code",
   "execution_count": null,
   "id": "3e202902",
   "metadata": {},
   "outputs": [],
   "source": []
  },
  {
   "cell_type": "code",
   "execution_count": null,
   "id": "0c7458fd",
   "metadata": {},
   "outputs": [],
   "source": []
  },
  {
   "cell_type": "code",
   "execution_count": null,
   "id": "50dd86a3",
   "metadata": {},
   "outputs": [],
   "source": []
  },
  {
   "cell_type": "code",
   "execution_count": null,
   "id": "b6929856",
   "metadata": {},
   "outputs": [],
   "source": []
  },
  {
   "cell_type": "code",
   "execution_count": null,
   "id": "4121cac3",
   "metadata": {},
   "outputs": [],
   "source": []
  },
  {
   "cell_type": "code",
   "execution_count": null,
   "id": "6cc67caa",
   "metadata": {},
   "outputs": [],
   "source": []
  },
  {
   "cell_type": "code",
   "execution_count": null,
   "id": "152b6e09",
   "metadata": {},
   "outputs": [],
   "source": []
  },
  {
   "cell_type": "code",
   "execution_count": null,
   "id": "d03bd81c",
   "metadata": {},
   "outputs": [],
   "source": []
  },
  {
   "cell_type": "code",
   "execution_count": 108,
   "id": "960168d0",
   "metadata": {},
   "outputs": [],
   "source": [
    "# Example\n",
    "\n",
    "# Iteration 100000 - y_hat: 0.5, Loss: 0.0\n",
    "# Iteration 200000 - y_hat: 0.5, Loss: 0.0\n",
    "# Iteration 300000 - y_hat: 0.5, Loss: 0.0\n",
    "# Iteration 400000 - y_hat: 0.5, Loss: 0.0\n",
    "# Iteration 500000 - y_hat: 0.5, Loss: 0.0\n",
    "# Iteration 600000 - y_hat: 0.5, Loss: 0.0\n",
    "# Iteration 700000 - y_hat: 0.5, Loss: 0.0\n",
    "# Iteration 800000 - y_hat: 0.5, Loss: 0.0\n",
    "# Iteration 900000 - y_hat: 0.5, Loss: 0.0\n",
    "# Iteration 1000000 - y_hat: 0.5, Loss: 0.0\n",
    "\n",
    "# Updated Weights W1:\n",
    "# [[0.4]\n",
    "#  [0.3]\n",
    "#  [0.7]]\n",
    "# Updated Weights W2:\n",
    "# [ 0.00824096 -0.20559177  0.16936391]"
   ]
  },
  {
   "cell_type": "code",
   "execution_count": null,
   "id": "9715c3a0",
   "metadata": {},
   "outputs": [],
   "source": []
  }
 ],
 "metadata": {
  "kernelspec": {
   "display_name": "Python 3 (ipykernel)",
   "language": "python",
   "name": "python3"
  },
  "language_info": {
   "codemirror_mode": {
    "name": "ipython",
    "version": 3
   },
   "file_extension": ".py",
   "mimetype": "text/x-python",
   "name": "python",
   "nbconvert_exporter": "python",
   "pygments_lexer": "ipython3",
   "version": "3.10.9"
  }
 },
 "nbformat": 4,
 "nbformat_minor": 5
}
