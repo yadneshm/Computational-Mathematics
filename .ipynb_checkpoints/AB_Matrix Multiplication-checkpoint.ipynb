{
 "cells": [
  {
   "cell_type": "code",
   "execution_count": 1,
   "id": "9afd1e35",
   "metadata": {},
   "outputs": [],
   "source": [
    "import numpy as np\n",
    "import sympy as sp"
   ]
  },
  {
   "cell_type": "code",
   "execution_count": 33,
   "id": "d813136a",
   "metadata": {},
   "outputs": [
    {
     "name": "stdout",
     "output_type": "stream",
     "text": [
      "Enter the dimention of the matrix: 3\n",
      "0 = 1\n",
      "1 = 2\n",
      "2 = 3\n",
      "3 = 4\n",
      "4 = 5\n",
      "5 = 6\n",
      "6 = 7\n",
      "7 = 8\n",
      "8 = 9\n",
      "3\n",
      "[[1 2 3]\n",
      " [4 5 6]\n",
      " [7 8 9]]\n",
      "Please enter power of a matrix = 3\n"
     ]
    },
    {
     "data": {
      "text/latex": [
       "$\\displaystyle \\left[\\begin{matrix}468 & 576 & 684\\\\1062 & 1305 & 1548\\\\1656 & 2034 & 2412\\end{matrix}\\right]$"
      ],
      "text/plain": [
       "Matrix([\n",
       "[ 468,  576,  684],\n",
       "[1062, 1305, 1548],\n",
       "[1656, 2034, 2412]])"
      ]
     },
     "execution_count": 33,
     "metadata": {},
     "output_type": "execute_result"
    }
   ],
   "source": [
    "mat_dim = int(input(\"Enter the dimention of the matrix: \"))\n",
    "A = np.array([int(input(f\"{i} = \")) for i in range(mat_dim*mat_dim)]).reshape(mat_dim,mat_dim)\n",
    "\n",
    "print(mat_dim)\n",
    "print(A)\n",
    "\n",
    "n = int(input(\"Please enter power of a matrix = \"))\n",
    "\n",
    "# Convert a matrix to sympy Matrix format for multiplication\n",
    "A = sp.Matrix(sp.simplify(A))\n",
    "B = sp.Matrix(sp.simplify(A))\n",
    "\n",
    "\n",
    "for i in range(n-1):\n",
    "    A = sp.Matrix(sp.simplify(A*B))\n",
    "\n",
    "    \n",
    "A"
   ]
  }
 ],
 "metadata": {
  "kernelspec": {
   "display_name": "Python 3 (ipykernel)",
   "language": "python",
   "name": "python3"
  },
  "language_info": {
   "codemirror_mode": {
    "name": "ipython",
    "version": 3
   },
   "file_extension": ".py",
   "mimetype": "text/x-python",
   "name": "python",
   "nbconvert_exporter": "python",
   "pygments_lexer": "ipython3",
   "version": "3.10.9"
  }
 },
 "nbformat": 4,
 "nbformat_minor": 5
}
