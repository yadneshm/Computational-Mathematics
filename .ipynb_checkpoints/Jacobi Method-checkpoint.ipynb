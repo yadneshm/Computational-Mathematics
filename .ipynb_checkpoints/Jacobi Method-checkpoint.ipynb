{
 "cells": [
  {
   "cell_type": "code",
   "execution_count": 4,
   "id": "acbba10b",
   "metadata": {},
   "outputs": [
    {
     "name": "stdout",
     "output_type": "stream",
     "text": [
      "x = 2\n",
      "y = 3\n",
      "z = 45\n",
      "guess = 6\n",
      "2x 3y 45z = 6\n"
     ]
    }
   ],
   "source": [
    "x = int(input('x = '))\n",
    "y = int(input('y = '))\n",
    "z = int(input('z = '))\n",
    "guess = int(input('guess = '))\n",
    "\n",
    "print(f\"{+x}x {+y}y {z}z = {guess}\")\n"
   ]
  },
  {
   "cell_type": "code",
   "execution_count": 15,
   "id": "43b18a02",
   "metadata": {},
   "outputs": [
    {
     "name": "stdout",
     "output_type": "stream",
     "text": [
      "[0. 0. 0.]\n",
      "[5.5        1.85714286 1.        ]\n",
      "[  2.57142857  -2.64285714 -12.33928571]\n",
      "[31.5         7.07142857  1.78571429]\n",
      "[ -1.60714286 -21.66326531 -68.26785714]\n",
      "[152.86734694  42.01530612  47.13903061]\n",
      "[-109.78571429 -134.27040816 -350.54846939]\n",
      "[773.73214286 280.58892128 461.66581633]\n",
      "[-1058.12609329  -814.61771137 -1914.20909257]\n",
      "[4241.22704082 1851.49526239 3481.95608601]\n",
      "[ -7884.15980321  -5017.27993544 -11124.13784621]\n",
      "[24762.41566014 11990.05005727 23832.8395265 ]\n",
      "[-53655.20408163 -31304.3480581  -67313.32751978]\n",
      "[150284.32906862  76791.76149819 156506.30325906]\n",
      "[-351402.98726721 -196776.26548276 -416580.09886645]\n",
      "[ 931553.83047428  489049.76168598 1008508.75868314]\n",
      "[-2261536.89820927 -1241684.45530057 -2608317.72670195]\n",
      "[5837483.18105419 3105852.62826488 6441059.48246735]\n",
      "[-14435039.77906713  -7850234.40502005 -16427299.82337458]\n",
      "[36779722.34925918 19697773.02697628 40961789.42340758]\n",
      "[-9.17724599e+07 -4.96779652e+07 -1.03760059e+08]\n",
      "[2.32359106e+08 1.24843221e+08 2.59957736e+08]\n",
      "[-5.82337077e+08 -3.14518066e+08 -6.56314878e+08]\n",
      "[1.46988879e+09 7.90992130e+08 1.64812602e+09]\n",
      "[-3.69174810e+09 -1.99170686e+09 -4.15428965e+09]\n",
      "[9.30443274e+09 5.01084273e+09 1.04439729e+10]\n"
     ]
    }
   ],
   "source": [
    "from pprint import pprint\n",
    "from numpy import array, zeros, diag, diagflat, dot\n",
    "\n",
    "def jacobi(A,b,N=25,x=None):\n",
    "    \"\"\"Solves the equation Ax=b via the Jacobi iterative method.\"\"\"\n",
    "    # Create an initial guess if needed                                                                                                                                                            \n",
    "    if x is None:\n",
    "        x = zeros(len(A[0]))\n",
    "    print(x)\n",
    "#     Create a vector of the diagonal elements of A and subtract them from A                                                                                                                                                                     \n",
    "    D = diag(A)\n",
    "    R = A - diagflat(D)\n",
    "\n",
    "    # Iterate for N times                                                                                                                                                                          \n",
    "    for i in range(N):\n",
    "        x = (b - dot(R,x)) / D\n",
    "        print(x)\n",
    "#     return x\n",
    "\n",
    "A = array([[2.0,1.0,4],[5.0,7.0,4],[7,8,4]])\n",
    "b = array([11.0,13.0,4])\n",
    "# guess = array([1.0,1.0,1])\n",
    "\n",
    "# sol = jacobi(A,b,N=25,x=guess)\n",
    "sol = jacobi(A,b,N=25)\n",
    "\n",
    "\n",
    "# # print \"A:\"\n",
    "# print(A)\n",
    "\n",
    "# # print \"b:\"\n",
    "# print(b)\n",
    "\n",
    "# # print \"x:\"\n",
    "# print(sol)"
   ]
  },
  {
   "cell_type": "code",
   "execution_count": 20,
   "id": "4a69308b",
   "metadata": {},
   "outputs": [
    {
     "name": "stdout",
     "output_type": "stream",
     "text": [
      "Please enter a integer value for no of rows and no of columns = 3\n",
      "Number of elements required = 9\n",
      "\n",
      "Enter 9 elements row wise.\n",
      "\n",
      "[1,1] position element = -1\n",
      "[1,2] position element = 4\n",
      "[1,3] position element = 2\n",
      "[2,1] position element = 4\n",
      "[2,2] position element = 2\n",
      "[2,3] position element = 3\n",
      "[3,1] position element = 6\n",
      "[3,2] position element = -9\n",
      "[3,3] position element = 2\n",
      "[[-1  4  2]\n",
      " [ 4  2  3]\n",
      " [ 6 -9  2]]\n"
     ]
    }
   ],
   "source": [
    "import numpy as np\n",
    "\n",
    "n = int(input(\"Please enter a integer value for no of rows and no of columns = \"))\n",
    "no_of_elements = n*n\n",
    "\n",
    "print(f\"Number of elements required = {no_of_elements}\")\n",
    "\n",
    "mat_list = [] ## Matrix List\n",
    "\n",
    "print(f\"\\nEnter {no_of_elements} elements row wise.\\n\")\n",
    "\n",
    "# loop to get the n*n number of elements into the list.\n",
    "while no_of_elements>0:\n",
    "    for i in range(1,n+1):\n",
    "        for j in range(1,n+1):\n",
    "            mat_list.append(int(input(f\"[{i},{j}] position element = \")))\n",
    "            \n",
    "            no_of_elements -= 1 # Decrease no_of_elements required each iteration by 1.\n",
    "\n",
    "m1 = np.array(mat_list).reshape(n,n) # Matrix 1\n",
    "\n",
    "print(m1)\n",
    "\n",
    "\n"
   ]
  },
  {
   "cell_type": "code",
   "execution_count": 40,
   "id": "1c3b15a5",
   "metadata": {},
   "outputs": [
    {
     "name": "stdout",
     "output_type": "stream",
     "text": [
      "Enter the vectors.\n",
      "\n",
      "vectors[0] = 2\n",
      "vectors[1] = 3\n",
      "vectors[2] = 1\n",
      "vectors = [2, 3, 1]\n",
      "Enter initial guess.\n",
      "\n",
      "guess[0] = 1\n",
      "guess[1] = 1\n",
      "guess[2] = 1\n",
      "guess = [1, 1, 1]\n"
     ]
    }
   ],
   "source": [
    "vectors = []\n",
    "\n",
    "print(\"Enter the vectors.\\n\")\n",
    "for i in range(n):\n",
    "    vectors.append(int(input(f\"vectors[{i}] = \")))\n",
    "    \n",
    "print(f\"vectors = {vectors}\")\n",
    "\n",
    "\n",
    "\n",
    "\n",
    "guess = []\n",
    "\n",
    "print(\"Enter initial guess.\\n\")\n",
    "for i in range(n):\n",
    "    guess.append(int(input(f\"guess[{i}] = \")))\n",
    "    \n",
    "print(f\"guess = {guess}\")"
   ]
  },
  {
   "cell_type": "code",
   "execution_count": 42,
   "id": "35e50118",
   "metadata": {},
   "outputs": [
    {
     "name": "stdout",
     "output_type": "stream",
     "text": [
      "[1, 1, 1]\n"
     ]
    }
   ],
   "source": [
    "# check whether the guess is empty or not\n",
    "if not guess:\n",
    "    print(\"The guess is null.\")\n",
    "    guess = np.zeros(n) ## If guess is null then get the list as zeros.\n",
    "    print(guess)\n",
    "    \n",
    "else:\n",
    "    print(guess)"
   ]
  },
  {
   "cell_type": "code",
   "execution_count": null,
   "id": "2728ecbd",
   "metadata": {},
   "outputs": [],
   "source": [
    "no_of_itt = 4  # Number of iterations\n"
   ]
  }
 ],
 "metadata": {
  "kernelspec": {
   "display_name": "Python 3 (ipykernel)",
   "language": "python",
   "name": "python3"
  },
  "language_info": {
   "codemirror_mode": {
    "name": "ipython",
    "version": 3
   },
   "file_extension": ".py",
   "mimetype": "text/x-python",
   "name": "python",
   "nbconvert_exporter": "python",
   "pygments_lexer": "ipython3",
   "version": "3.10.9"
  }
 },
 "nbformat": 4,
 "nbformat_minor": 5
}
