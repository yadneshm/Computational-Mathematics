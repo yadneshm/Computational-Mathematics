{
 "cells": [
  {
   "cell_type": "markdown",
   "id": "34a47af7",
   "metadata": {},
   "source": [
    "# Q7\n",
    "## Write a Python script which implements the Jacobi method and the Gauss-Siedel method for iteratively solving a system of linear equations."
   ]
  },
  {
   "cell_type": "markdown",
   "id": "c6f50c79",
   "metadata": {},
   "source": [
    "# Import required libraries "
   ]
  },
  {
   "cell_type": "code",
   "execution_count": 3,
   "id": "acb862fe",
   "metadata": {},
   "outputs": [],
   "source": [
    "import numpy as np"
   ]
  },
  {
   "cell_type": "markdown",
   "id": "9bbad7f9",
   "metadata": {},
   "source": [
    "# Get the matrix and vectors"
   ]
  },
  {
   "cell_type": "code",
   "execution_count": null,
   "id": "28b9ff4e",
   "metadata": {},
   "outputs": [],
   "source": [
    "\n",
    "## Function to change the signs of values as per requirement.\n",
    "def change_sign(n):\n",
    "    if n==0:\n",
    "        n = 0\n",
    "    elif n<0:\n",
    "        n = n*-1\n",
    "    else:\n",
    "        n = n*-1\n",
    "    return n\n",
    "\n",
    "\n",
    "## Get the number of rows and columns for the SQUARE MATRIX\n",
    "n = int(input(\"Please enter a integer value for no of rows and no of columns = \"))\n",
    "## Condition if the value is incorrect.\n",
    "if n>0:\n",
    "    no_of_elements = n*n\n",
    "elif n<0:\n",
    "    n = int(input(\"Please enter a value greater then 0 = \"))\n",
    "    if n>0:\n",
    "        no_of_elements = n*n\n",
    "    else:\n",
    "        raise TypeError(\"The value is still incorrect.\")\n",
    "\n",
    "print(f\"\\nNumber of elements required = {no_of_elements}\")\n",
    "\n",
    "mat_list = [] ## Matrix List to get the elements of the matrix\n",
    "\n",
    "print(f\"\\nEnter {no_of_elements} elements row wise.\\n\")\n",
    "\n",
    "# loop to get the n*n number of elements into the list.\n",
    "while no_of_elements>0:\n",
    "    for i in range(n):\n",
    "        for j in range(n):\n",
    "            mat_list.append(int(input(f\"[{i},{j}] position element = \")))\n",
    "            \n",
    "            no_of_elements -= 1 # Decrease no_of_elements required each iteration by 1.\n",
    "\n",
    "matrix = np.array(mat_list).reshape(n,n) # Matrix 1\n",
    "\n",
    "print(matrix)\n",
    "\n",
    "\n",
    "vectors = [] # List to get the vectors.\n",
    "\n",
    "print(\"Enter the vectors.\\n\")\n",
    "\n",
    "# Loop for getting the n number of vectors\n",
    "for i in range(n):\n",
    "    vectors.append(int(input(f\"vectors[{i}] = \")))\n",
    "    \n",
    "print(f\"vectors = {vectors}\")\n",
    "\n",
    " \n",
    "\n"
   ]
  },
  {
   "cell_type": "markdown",
   "id": "bbe98919",
   "metadata": {},
   "source": [
    "# Jacobi Method Function"
   ]
  },
  {
   "cell_type": "code",
   "execution_count": null,
   "id": "d9bd57d4",
   "metadata": {},
   "outputs": [],
   "source": [
    " def jacobi_method(matrix, vectors):\n",
    "        initial_guess = []\n",
    "\n",
    "        print(\"Enter initial guess.\\n\")\n",
    "        for i in range(n):\n",
    "            initial_guess.append(int(input(f\"guess[{i}] = \")))\n",
    "\n",
    "        print(f\"initial_guess = {initial_guess}\")\n",
    "        \n",
    "        \n",
    "            \n",
    "        no_of_itt = int(input(\"\\nEnter the number of iterations = \"))  # Number of iterations\n",
    "        print(\"\") # Start from next line.\n",
    "        # Copy the initial guess as we have to change the values after each iteration.\n",
    "        old_guess = initial_guess.copy() \n",
    "        \n",
    "        print(\"____________________________________________________________________________________________\")\n",
    "        for k in range(no_of_itt):\n",
    "            \n",
    "            print(f\"Iteration {k+1}\")\n",
    "            print(f\"Iteration values = {old_guess}\")\n",
    "\n",
    "            for i in range(n):\n",
    "                calculate = []\n",
    "                for j in range(n):\n",
    "                    if i==j:\n",
    "                        div_val = matrix[i][j]\n",
    "                        if div_val == 0:\n",
    "                            return print(f\"\\nDiagonal element value = {div_val}.\\nTherefore we can't proceed further.\")\n",
    "                        else:\n",
    "                            continue\n",
    "\n",
    "                    else: \n",
    "                        calculate.append(matrix[i][j]*old_guess[j])\n",
    "\n",
    "                calculate = [change_sign(x) for x in calculate]\n",
    "                initial_guess[i] = (vectors[i]+sum(calculate))/div_val\n",
    "\n",
    "            old_guess = initial_guess\n",
    "            print(\"____________________________________________________________________________________________\")\n",
    "\n"
   ]
  },
  {
   "cell_type": "markdown",
   "id": "65a91bdd",
   "metadata": {},
   "source": [
    "# Gauss Siedel Method Function"
   ]
  },
  {
   "cell_type": "code",
   "execution_count": null,
   "id": "e16f444a",
   "metadata": {},
   "outputs": [],
   "source": [
    " def gauss_siedel_method(matrix, vectors):\n",
    "        guess = []\n",
    "\n",
    "        print(\"Enter initial guess.\\n\")\n",
    "        for i in range(n):\n",
    "            guess.append(int(input(f\"guess[{i}] = \")))\n",
    "\n",
    "        print(f\"guess = {guess}\")\n",
    "\n",
    "        # check whether the guess is empty or not\n",
    "        if not guess:\n",
    "            print(\"The guess is null.\")\n",
    "            guess = np.zeros(n) ## If guess is null then get the list as zeros.\n",
    "            print(guess)\n",
    "\n",
    "        else:\n",
    "            print(f\"Initial guess = {guess}\")\n",
    "\n",
    "        final_guess = []\n",
    "\n",
    "        no_of_itt = int(input(\"\\nEnter the number of iterations = \"))  # Number of iterations\n",
    "        print(\"\")\n",
    "        \n",
    "        print(\"____________________________________________________________________________________________\")\n",
    "        for k in range(no_of_itt):\n",
    "            print(f\"Iteration {k+1}\")\n",
    "\n",
    "            for i in range(n):\n",
    "                calculate = []\n",
    "                for j in range(n):\n",
    "                    if i==j:\n",
    "                        \n",
    "                        div_val = matrix[i][j]\n",
    "                    else: \n",
    "                        calculate.append(matrix[i][j]*guess[j])\n",
    "\n",
    "                calculate = [change_sign(x) for x in calculate]\n",
    "        #         print(f\"vectors = {vectors[i]}, calculate = {calculate},div_val = {div_val} \")\n",
    "                guess[i] = (vectors[i]+sum(calculate))/div_val\n",
    "\n",
    "\n",
    "            \n",
    "            print(f\"Points = {guess}\")\n",
    "            old_guess = guess\n",
    "            print(\"____________________________________________________________________________________________\")"
   ]
  },
  {
   "cell_type": "code",
   "execution_count": null,
   "id": "185cc1f4",
   "metadata": {},
   "outputs": [],
   "source": [
    "jacobi_method(matrix,vectors)"
   ]
  },
  {
   "cell_type": "code",
   "execution_count": null,
   "id": "a23ed2af",
   "metadata": {},
   "outputs": [],
   "source": [
    "gauss_siedel_method(matrix,vectors)"
   ]
  },
  {
   "cell_type": "code",
   "execution_count": null,
   "id": "7dcf4208",
   "metadata": {},
   "outputs": [],
   "source": []
  }
 ],
 "metadata": {
  "kernelspec": {
   "display_name": "Python 3 (ipykernel)",
   "language": "python",
   "name": "python3"
  },
  "language_info": {
   "codemirror_mode": {
    "name": "ipython",
    "version": 3
   },
   "file_extension": ".py",
   "mimetype": "text/x-python",
   "name": "python",
   "nbconvert_exporter": "python",
   "pygments_lexer": "ipython3",
   "version": "3.10.9"
  }
 },
 "nbformat": 4,
 "nbformat_minor": 5
}
