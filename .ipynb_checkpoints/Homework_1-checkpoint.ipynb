{
 "cells": [
  {
   "cell_type": "markdown",
   "metadata": {
    "id": "4ntSUV9iwIDW"
   },
   "source": [
    "# Hands-on: Linking Tables (Lab2)\n"
   ]
  },
  {
   "cell_type": "markdown",
   "metadata": {
    "id": "rj_GWfm8wa72"
   },
   "source": [
    "## Goals\n",
    "\n",
    "We'll take data that was extracted from two different booksellers by students, and try to see which is cheaper.  This requires that we can match the books to compare prices!\n",
    "\n",
    "## The Data\n",
    "\n",
    "Data is from the Magellan project, collected by Prof. AnHai Doan and his group.  We'll be looking at Barnes and Noble vs. Amazon."
   ]
  },
  {
   "cell_type": "code",
   "execution_count": null,
   "metadata": {
    "id": "d3T5yU-uRZIs"
   },
   "outputs": [],
   "source": [
    "# Core Magellan libraries, for string similarity\n",
    "# !pip3 install py_stringsimjoin"
   ]
  },
  {
   "cell_type": "code",
   "execution_count": null,
   "metadata": {
    "id": "0UjsISdQM9x6"
   },
   "outputs": [],
   "source": [
    "import pandas as pd\n",
    "\n",
    "# Approximate string matching\n",
    "# import py_stringsimjoin as ssj\n",
    "# import py_stringmatching as sm"
   ]
  },
  {
   "cell_type": "markdown",
   "metadata": {
    "id": "fjV0uaE0w1eT"
   },
   "source": [
    "# Part 1. Loading"
   ]
  },
  {
   "cell_type": "markdown",
   "metadata": {
    "id": "NiBPZJYJ4FGz"
   },
   "source": [
    "### 1.1 Reading Barnes and Noble"
   ]
  },
  {
   "cell_type": "code",
   "execution_count": null,
   "metadata": {
    "id": "iQFEFk6BM_Vb"
   },
   "outputs": [],
   "source": [
    "#### 1a\n",
    "\n",
    "# TODO: load http://pages.cs.wisc.edu/~anhai/data/784_data/books4/csv_files/barnes_and_noble.csv and inspect it\n",
    "path = 'http://pages.cs.wisc.edu/~anhai/data/784_data/books4/csv_files/barnes_and_noble.csv'\n",
    "nobel_df = pd.read_csv(path)"
   ]
  },
  {
   "cell_type": "code",
   "execution_count": null,
   "metadata": {
    "colab": {
     "base_uri": "https://localhost:8080/"
    },
    "id": "_tPgfCk3VaMH",
    "outputId": "925f5de8-9beb-42c4-96b4-84a59fceeaef"
   },
   "outputs": [
    {
     "name": "stdout",
     "output_type": "stream",
     "text": [
      "<class 'pandas.core.frame.DataFrame'>\n",
      "RangeIndex: 9958 entries, 0 to 9957\n",
      "Data columns (total 15 columns):\n",
      " #   Column              Non-Null Count  Dtype  \n",
      "---  ------              --------------  -----  \n",
      " 0   ID                  9958 non-null   int64  \n",
      " 1   Title               9955 non-null   object \n",
      " 2   Author              9951 non-null   object \n",
      " 3   Hardcover           1146 non-null   object \n",
      " 4   Paperback           6270 non-null   object \n",
      " 5   NOOK_Book           5921 non-null   object \n",
      " 6   Audiobook           106 non-null    object \n",
      " 7   ISBN_13_DUMMY       9952 non-null   float64\n",
      " 8   ISBN_13             9958 non-null   object \n",
      " 9   Series              3064 non-null   object \n",
      " 10  Publisher           9948 non-null   object \n",
      " 11  Publication_Date    0 non-null      float64\n",
      " 12  Sales_rank          9232 non-null   object \n",
      " 13  Pages               7940 non-null   float64\n",
      " 14  Product_dimensions  6837 non-null   object \n",
      "dtypes: float64(3), int64(1), object(11)\n",
      "memory usage: 1.1+ MB\n"
     ]
    }
   ],
   "source": [
    "nobel_df.info()"
   ]
  },
  {
   "cell_type": "code",
   "execution_count": null,
   "metadata": {
    "colab": {
     "base_uri": "https://localhost:8080/"
    },
    "id": "vhyhCDTVDb2v",
    "outputId": "26bdc386-c9ff-4d6d-e0db-d586a67c2854"
   },
   "outputs": [
    {
     "name": "stdout",
     "output_type": "stream",
     "text": [
      "[nan]\n"
     ]
    }
   ],
   "source": [
    "# for i in nobel_df.Publication_Date.unique():\n",
    "#   print(i)\n",
    "print(nobel_df.Publication_Date.unique())\n",
    "\n",
    "# Drop Publication_Date column as all the values are null\n",
    "\n",
    "nobel_df.drop(['Publication_Date'],axis=1, inplace = True)"
   ]
  },
  {
   "cell_type": "markdown",
   "metadata": {
    "id": "guNVsAal4Ikk"
   },
   "source": [
    "### 1.2 Reading Amazon"
   ]
  },
  {
   "cell_type": "code",
   "execution_count": null,
   "metadata": {
    "colab": {
     "base_uri": "https://localhost:8080/",
     "height": 585
    },
    "id": "aIP4fgrkND_W",
    "outputId": "803140cb-f11d-4a48-8097-a98b443bb3b0"
   },
   "outputs": [
    {
     "data": {
      "text/html": [
       "\n",
       "  <div id=\"df-1cbfcbbd-d2a2-4872-8b03-c474a397ace2\" class=\"colab-df-container\">\n",
       "    <div>\n",
       "<style scoped>\n",
       "    .dataframe tbody tr th:only-of-type {\n",
       "        vertical-align: middle;\n",
       "    }\n",
       "\n",
       "    .dataframe tbody tr th {\n",
       "        vertical-align: top;\n",
       "    }\n",
       "\n",
       "    .dataframe thead th {\n",
       "        text-align: right;\n",
       "    }\n",
       "</style>\n",
       "<table border=\"1\" class=\"dataframe\">\n",
       "  <thead>\n",
       "    <tr style=\"text-align: right;\">\n",
       "      <th></th>\n",
       "      <th>ID</th>\n",
       "      <th>Title</th>\n",
       "      <th>Author</th>\n",
       "      <th>Price</th>\n",
       "      <th>Edition</th>\n",
       "      <th>ASIN</th>\n",
       "      <th>ISBN_13</th>\n",
       "      <th>ISBN_10</th>\n",
       "      <th>Paperback</th>\n",
       "      <th>Series</th>\n",
       "      <th>...</th>\n",
       "      <th>Publication_Date</th>\n",
       "      <th>Sold_by</th>\n",
       "      <th>Language</th>\n",
       "      <th>Product Dimensions</th>\n",
       "      <th>Shipping Weight</th>\n",
       "      <th>Unnamed: 17</th>\n",
       "      <th>Unnamed: 18</th>\n",
       "      <th>Unnamed: 19</th>\n",
       "      <th>Unnamed: 20</th>\n",
       "      <th>Unnamed: 21</th>\n",
       "    </tr>\n",
       "  </thead>\n",
       "  <tbody>\n",
       "    <tr>\n",
       "      <th>0</th>\n",
       "      <td>1</td>\n",
       "      <td>Steve Jobs: A Biography</td>\n",
       "      <td>Walter Isaacson</td>\n",
       "      <td>$29.00</td>\n",
       "      <td>NaN</td>\n",
       "      <td>NaN</td>\n",
       "      <td>978-0002160636</td>\n",
       "      <td>2160633</td>\n",
       "      <td>NaN</td>\n",
       "      <td>NaN</td>\n",
       "      <td>...</td>\n",
       "      <td>NaN</td>\n",
       "      <td>NaN</td>\n",
       "      <td>Chinese</td>\n",
       "      <td>8.6 x 6.1 x 2.1 inches</td>\n",
       "      <td>2.7 pounds</td>\n",
       "      <td>NaN</td>\n",
       "      <td>NaN</td>\n",
       "      <td>NaN</td>\n",
       "      <td>NaN</td>\n",
       "      <td>NaN</td>\n",
       "    </tr>\n",
       "    <tr>\n",
       "      <th>1</th>\n",
       "      <td>2</td>\n",
       "      <td>Introduction to Control System Technology</td>\n",
       "      <td>Robert N. Bateson</td>\n",
       "      <td>$10.00</td>\n",
       "      <td>4th Edition</td>\n",
       "      <td>NaN</td>\n",
       "      <td>978-0023064630</td>\n",
       "      <td>23064633</td>\n",
       "      <td>NaN</td>\n",
       "      <td>NaN</td>\n",
       "      <td>...</td>\n",
       "      <td>NaN</td>\n",
       "      <td>NaN</td>\n",
       "      <td>English</td>\n",
       "      <td>1.2 x 7.5 x 9 inches</td>\n",
       "      <td>3 pounds</td>\n",
       "      <td>NaN</td>\n",
       "      <td>NaN</td>\n",
       "      <td>NaN</td>\n",
       "      <td>NaN</td>\n",
       "      <td>NaN</td>\n",
       "    </tr>\n",
       "    <tr>\n",
       "      <th>2</th>\n",
       "      <td>3</td>\n",
       "      <td>Computer Assisted Structural Analysis and Mode...</td>\n",
       "      <td>Marc Ira Hoit</td>\n",
       "      <td>$20.64</td>\n",
       "      <td>1st Edition</td>\n",
       "      <td>NaN</td>\n",
       "      <td>978-0023559723</td>\n",
       "      <td>23559721</td>\n",
       "      <td>NaN</td>\n",
       "      <td>NaN</td>\n",
       "      <td>...</td>\n",
       "      <td>NaN</td>\n",
       "      <td>NaN</td>\n",
       "      <td>English</td>\n",
       "      <td>1 x 7.8 x 9.8 inches</td>\n",
       "      <td>2 pounds</td>\n",
       "      <td>NaN</td>\n",
       "      <td>NaN</td>\n",
       "      <td>NaN</td>\n",
       "      <td>NaN</td>\n",
       "      <td>NaN</td>\n",
       "    </tr>\n",
       "    <tr>\n",
       "      <th>3</th>\n",
       "      <td>4</td>\n",
       "      <td>Computer Numerical Control Programming of Mach...</td>\n",
       "      <td>Larry D. Horath</td>\n",
       "      <td>$0.20 - $141.40</td>\n",
       "      <td>1st Edition</td>\n",
       "      <td>NaN</td>\n",
       "      <td>978-0023572012</td>\n",
       "      <td>23572019</td>\n",
       "      <td>268 pages</td>\n",
       "      <td>NaN</td>\n",
       "      <td>...</td>\n",
       "      <td>NaN</td>\n",
       "      <td>NaN</td>\n",
       "      <td>English</td>\n",
       "      <td>6.4 x 0.7 x 9.5 inches</td>\n",
       "      <td>14.6 ounces (View shipping rates and policies)</td>\n",
       "      <td>NaN</td>\n",
       "      <td>NaN</td>\n",
       "      <td>NaN</td>\n",
       "      <td>NaN</td>\n",
       "      <td>NaN</td>\n",
       "    </tr>\n",
       "    <tr>\n",
       "      <th>4</th>\n",
       "      <td>5</td>\n",
       "      <td>Pascal Programming and Problem Solving</td>\n",
       "      <td>Sanford Leestma# Larry Nyhoff</td>\n",
       "      <td>$24.98 - $186.80</td>\n",
       "      <td>4th Edition</td>\n",
       "      <td>NaN</td>\n",
       "      <td>978-0023887314</td>\n",
       "      <td>23887311</td>\n",
       "      <td>969 pages</td>\n",
       "      <td>NaN</td>\n",
       "      <td>...</td>\n",
       "      <td>NaN</td>\n",
       "      <td>NaN</td>\n",
       "      <td>English</td>\n",
       "      <td>6.8 x 2 x 9.9 inches</td>\n",
       "      <td>3.4 pounds (View shipping rates and policies)</td>\n",
       "      <td>NaN</td>\n",
       "      <td>NaN</td>\n",
       "      <td>NaN</td>\n",
       "      <td>NaN</td>\n",
       "      <td>NaN</td>\n",
       "    </tr>\n",
       "  </tbody>\n",
       "</table>\n",
       "<p>5 rows × 22 columns</p>\n",
       "</div>\n",
       "    <div class=\"colab-df-buttons\">\n",
       "\n",
       "  <div class=\"colab-df-container\">\n",
       "    <button class=\"colab-df-convert\" onclick=\"convertToInteractive('df-1cbfcbbd-d2a2-4872-8b03-c474a397ace2')\"\n",
       "            title=\"Convert this dataframe to an interactive table.\"\n",
       "            style=\"display:none;\">\n",
       "\n",
       "  <svg xmlns=\"http://www.w3.org/2000/svg\" height=\"24px\" viewBox=\"0 -960 960 960\">\n",
       "    <path d=\"M120-120v-720h720v720H120Zm60-500h600v-160H180v160Zm220 220h160v-160H400v160Zm0 220h160v-160H400v160ZM180-400h160v-160H180v160Zm440 0h160v-160H620v160ZM180-180h160v-160H180v160Zm440 0h160v-160H620v160Z\"/>\n",
       "  </svg>\n",
       "    </button>\n",
       "\n",
       "  <style>\n",
       "    .colab-df-container {\n",
       "      display:flex;\n",
       "      gap: 12px;\n",
       "    }\n",
       "\n",
       "    .colab-df-convert {\n",
       "      background-color: #E8F0FE;\n",
       "      border: none;\n",
       "      border-radius: 50%;\n",
       "      cursor: pointer;\n",
       "      display: none;\n",
       "      fill: #1967D2;\n",
       "      height: 32px;\n",
       "      padding: 0 0 0 0;\n",
       "      width: 32px;\n",
       "    }\n",
       "\n",
       "    .colab-df-convert:hover {\n",
       "      background-color: #E2EBFA;\n",
       "      box-shadow: 0px 1px 2px rgba(60, 64, 67, 0.3), 0px 1px 3px 1px rgba(60, 64, 67, 0.15);\n",
       "      fill: #174EA6;\n",
       "    }\n",
       "\n",
       "    .colab-df-buttons div {\n",
       "      margin-bottom: 4px;\n",
       "    }\n",
       "\n",
       "    [theme=dark] .colab-df-convert {\n",
       "      background-color: #3B4455;\n",
       "      fill: #D2E3FC;\n",
       "    }\n",
       "\n",
       "    [theme=dark] .colab-df-convert:hover {\n",
       "      background-color: #434B5C;\n",
       "      box-shadow: 0px 1px 3px 1px rgba(0, 0, 0, 0.15);\n",
       "      filter: drop-shadow(0px 1px 2px rgba(0, 0, 0, 0.3));\n",
       "      fill: #FFFFFF;\n",
       "    }\n",
       "  </style>\n",
       "\n",
       "    <script>\n",
       "      const buttonEl =\n",
       "        document.querySelector('#df-1cbfcbbd-d2a2-4872-8b03-c474a397ace2 button.colab-df-convert');\n",
       "      buttonEl.style.display =\n",
       "        google.colab.kernel.accessAllowed ? 'block' : 'none';\n",
       "\n",
       "      async function convertToInteractive(key) {\n",
       "        const element = document.querySelector('#df-1cbfcbbd-d2a2-4872-8b03-c474a397ace2');\n",
       "        const dataTable =\n",
       "          await google.colab.kernel.invokeFunction('convertToInteractive',\n",
       "                                                    [key], {});\n",
       "        if (!dataTable) return;\n",
       "\n",
       "        const docLinkHtml = 'Like what you see? Visit the ' +\n",
       "          '<a target=\"_blank\" href=https://colab.research.google.com/notebooks/data_table.ipynb>data table notebook</a>'\n",
       "          + ' to learn more about interactive tables.';\n",
       "        element.innerHTML = '';\n",
       "        dataTable['output_type'] = 'display_data';\n",
       "        await google.colab.output.renderOutput(dataTable, element);\n",
       "        const docLink = document.createElement('div');\n",
       "        docLink.innerHTML = docLinkHtml;\n",
       "        element.appendChild(docLink);\n",
       "      }\n",
       "    </script>\n",
       "  </div>\n",
       "\n",
       "\n",
       "<div id=\"df-b8e3b31f-96f9-42a4-aa65-d286ff23b198\">\n",
       "  <button class=\"colab-df-quickchart\" onclick=\"quickchart('df-b8e3b31f-96f9-42a4-aa65-d286ff23b198')\"\n",
       "            title=\"Suggest charts.\"\n",
       "            style=\"display:none;\">\n",
       "\n",
       "<svg xmlns=\"http://www.w3.org/2000/svg\" height=\"24px\"viewBox=\"0 0 24 24\"\n",
       "     width=\"24px\">\n",
       "    <g>\n",
       "        <path d=\"M19 3H5c-1.1 0-2 .9-2 2v14c0 1.1.9 2 2 2h14c1.1 0 2-.9 2-2V5c0-1.1-.9-2-2-2zM9 17H7v-7h2v7zm4 0h-2V7h2v10zm4 0h-2v-4h2v4z\"/>\n",
       "    </g>\n",
       "</svg>\n",
       "  </button>\n",
       "\n",
       "<style>\n",
       "  .colab-df-quickchart {\n",
       "      --bg-color: #E8F0FE;\n",
       "      --fill-color: #1967D2;\n",
       "      --hover-bg-color: #E2EBFA;\n",
       "      --hover-fill-color: #174EA6;\n",
       "      --disabled-fill-color: #AAA;\n",
       "      --disabled-bg-color: #DDD;\n",
       "  }\n",
       "\n",
       "  [theme=dark] .colab-df-quickchart {\n",
       "      --bg-color: #3B4455;\n",
       "      --fill-color: #D2E3FC;\n",
       "      --hover-bg-color: #434B5C;\n",
       "      --hover-fill-color: #FFFFFF;\n",
       "      --disabled-bg-color: #3B4455;\n",
       "      --disabled-fill-color: #666;\n",
       "  }\n",
       "\n",
       "  .colab-df-quickchart {\n",
       "    background-color: var(--bg-color);\n",
       "    border: none;\n",
       "    border-radius: 50%;\n",
       "    cursor: pointer;\n",
       "    display: none;\n",
       "    fill: var(--fill-color);\n",
       "    height: 32px;\n",
       "    padding: 0;\n",
       "    width: 32px;\n",
       "  }\n",
       "\n",
       "  .colab-df-quickchart:hover {\n",
       "    background-color: var(--hover-bg-color);\n",
       "    box-shadow: 0 1px 2px rgba(60, 64, 67, 0.3), 0 1px 3px 1px rgba(60, 64, 67, 0.15);\n",
       "    fill: var(--button-hover-fill-color);\n",
       "  }\n",
       "\n",
       "  .colab-df-quickchart-complete:disabled,\n",
       "  .colab-df-quickchart-complete:disabled:hover {\n",
       "    background-color: var(--disabled-bg-color);\n",
       "    fill: var(--disabled-fill-color);\n",
       "    box-shadow: none;\n",
       "  }\n",
       "\n",
       "  .colab-df-spinner {\n",
       "    border: 2px solid var(--fill-color);\n",
       "    border-color: transparent;\n",
       "    border-bottom-color: var(--fill-color);\n",
       "    animation:\n",
       "      spin 1s steps(1) infinite;\n",
       "  }\n",
       "\n",
       "  @keyframes spin {\n",
       "    0% {\n",
       "      border-color: transparent;\n",
       "      border-bottom-color: var(--fill-color);\n",
       "      border-left-color: var(--fill-color);\n",
       "    }\n",
       "    20% {\n",
       "      border-color: transparent;\n",
       "      border-left-color: var(--fill-color);\n",
       "      border-top-color: var(--fill-color);\n",
       "    }\n",
       "    30% {\n",
       "      border-color: transparent;\n",
       "      border-left-color: var(--fill-color);\n",
       "      border-top-color: var(--fill-color);\n",
       "      border-right-color: var(--fill-color);\n",
       "    }\n",
       "    40% {\n",
       "      border-color: transparent;\n",
       "      border-right-color: var(--fill-color);\n",
       "      border-top-color: var(--fill-color);\n",
       "    }\n",
       "    60% {\n",
       "      border-color: transparent;\n",
       "      border-right-color: var(--fill-color);\n",
       "    }\n",
       "    80% {\n",
       "      border-color: transparent;\n",
       "      border-right-color: var(--fill-color);\n",
       "      border-bottom-color: var(--fill-color);\n",
       "    }\n",
       "    90% {\n",
       "      border-color: transparent;\n",
       "      border-bottom-color: var(--fill-color);\n",
       "    }\n",
       "  }\n",
       "</style>\n",
       "\n",
       "  <script>\n",
       "    async function quickchart(key) {\n",
       "      const quickchartButtonEl =\n",
       "        document.querySelector('#' + key + ' button');\n",
       "      quickchartButtonEl.disabled = true;  // To prevent multiple clicks.\n",
       "      quickchartButtonEl.classList.add('colab-df-spinner');\n",
       "      try {\n",
       "        const charts = await google.colab.kernel.invokeFunction(\n",
       "            'suggestCharts', [key], {});\n",
       "      } catch (error) {\n",
       "        console.error('Error during call to suggestCharts:', error);\n",
       "      }\n",
       "      quickchartButtonEl.classList.remove('colab-df-spinner');\n",
       "      quickchartButtonEl.classList.add('colab-df-quickchart-complete');\n",
       "    }\n",
       "    (() => {\n",
       "      let quickchartButtonEl =\n",
       "        document.querySelector('#df-b8e3b31f-96f9-42a4-aa65-d286ff23b198 button');\n",
       "      quickchartButtonEl.style.display =\n",
       "        google.colab.kernel.accessAllowed ? 'block' : 'none';\n",
       "    })();\n",
       "  </script>\n",
       "</div>\n",
       "    </div>\n",
       "  </div>\n"
      ],
      "text/plain": [
       "   ID                                              Title  \\\n",
       "0   1                            Steve Jobs: A Biography   \n",
       "1   2          Introduction to Control System Technology   \n",
       "2   3  Computer Assisted Structural Analysis and Mode...   \n",
       "3   4  Computer Numerical Control Programming of Mach...   \n",
       "4   5            Pascal Programming and Problem Solving    \n",
       "\n",
       "                          Author             Price      Edition ASIN  \\\n",
       "0                Walter Isaacson           $29.00           NaN  NaN   \n",
       "1              Robert N. Bateson           $10.00   4th Edition  NaN   \n",
       "2                  Marc Ira Hoit           $20.64   1st Edition  NaN   \n",
       "3                Larry D. Horath   $0.20 - $141.40  1st Edition  NaN   \n",
       "4  Sanford Leestma# Larry Nyhoff  $24.98 - $186.80  4th Edition  NaN   \n",
       "\n",
       "          ISBN_13   ISBN_10  Paperback Series  ... Publication_Date Sold_by  \\\n",
       "0  978-0002160636   2160633        NaN    NaN  ...              NaN     NaN   \n",
       "1  978-0023064630  23064633        NaN    NaN  ...              NaN     NaN   \n",
       "2  978-0023559723  23559721        NaN    NaN  ...              NaN     NaN   \n",
       "3  978-0023572012  23572019  268 pages    NaN  ...              NaN     NaN   \n",
       "4  978-0023887314  23887311  969 pages    NaN  ...              NaN     NaN   \n",
       "\n",
       "  Language      Product Dimensions  \\\n",
       "0  Chinese  8.6 x 6.1 x 2.1 inches   \n",
       "1  English    1.2 x 7.5 x 9 inches   \n",
       "2  English    1 x 7.8 x 9.8 inches   \n",
       "3  English  6.4 x 0.7 x 9.5 inches   \n",
       "4  English    6.8 x 2 x 9.9 inches   \n",
       "\n",
       "                                  Shipping Weight Unnamed: 17 Unnamed: 18  \\\n",
       "0                                      2.7 pounds         NaN         NaN   \n",
       "1                                        3 pounds         NaN         NaN   \n",
       "2                                        2 pounds         NaN         NaN   \n",
       "3  14.6 ounces (View shipping rates and policies)         NaN         NaN   \n",
       "4   3.4 pounds (View shipping rates and policies)         NaN         NaN   \n",
       "\n",
       "   Unnamed: 19  Unnamed: 20 Unnamed: 21  \n",
       "0          NaN          NaN         NaN  \n",
       "1          NaN          NaN         NaN  \n",
       "2          NaN          NaN         NaN  \n",
       "3          NaN          NaN         NaN  \n",
       "4          NaN          NaN         NaN  \n",
       "\n",
       "[5 rows x 22 columns]"
      ]
     },
     "execution_count": 14,
     "metadata": {},
     "output_type": "execute_result"
    }
   ],
   "source": [
    "#### 1b\n",
    "\n",
    "# TODO: load and display http://pages.cs.wisc.edu/~anhai/data/784_data/books4/csv_files/amazon.csv\n",
    "amazon_path = 'http://pages.cs.wisc.edu/~anhai/data/784_data/books4/csv_files/amazon.csv'\n",
    "amazon_df = pd.read_csv(amazon_path)\n",
    "amazon_df.head()\n"
   ]
  },
  {
   "cell_type": "markdown",
   "metadata": {
    "id": "mYU8TLoT4LDF"
   },
   "source": [
    "### 1.3 Simple cleaning\n",
    "\n",
    "Are there rows that seem completely useless?  Clean them."
   ]
  },
  {
   "cell_type": "code",
   "execution_count": null,
   "metadata": {
    "colab": {
     "base_uri": "https://localhost:8080/"
    },
    "id": "tUKbzBeIWH2m",
    "outputId": "b3faa67f-6657-4017-cb81-32b41ce1f854"
   },
   "outputs": [
    {
     "name": "stdout",
     "output_type": "stream",
     "text": [
      "<class 'pandas.core.frame.DataFrame'>\n",
      "RangeIndex: 8639 entries, 0 to 8638\n",
      "Data columns (total 22 columns):\n",
      " #   Column              Non-Null Count  Dtype  \n",
      "---  ------              --------------  -----  \n",
      " 0   ID                  8639 non-null   int64  \n",
      " 1   Title               8506 non-null   object \n",
      " 2   Author              8502 non-null   object \n",
      " 3   Price               8510 non-null   object \n",
      " 4   Edition             6700 non-null   object \n",
      " 5   ASIN                1807 non-null   object \n",
      " 6   ISBN_13             5377 non-null   object \n",
      " 7   ISBN_10             5377 non-null   object \n",
      " 8   Paperback           3477 non-null   object \n",
      " 9   Series              2791 non-null   object \n",
      " 10  Publisher_dummy     6181 non-null   object \n",
      " 11  Publisher           6181 non-null   object \n",
      " 12  Publication_Date    1752 non-null   object \n",
      " 13  Sold_by             1752 non-null   object \n",
      " 14  Language            7124 non-null   object \n",
      " 15  Product Dimensions  5352 non-null   object \n",
      " 16  Shipping Weight     5373 non-null   object \n",
      " 17  Unnamed: 17         0 non-null      float64\n",
      " 18  Unnamed: 18         0 non-null      float64\n",
      " 19  Unnamed: 19         26 non-null     object \n",
      " 20  Unnamed: 20         3 non-null      object \n",
      " 21  Unnamed: 21         1 non-null      object \n",
      "dtypes: float64(2), int64(1), object(19)\n",
      "memory usage: 1.5+ MB\n"
     ]
    }
   ],
   "source": [
    "amazon_df.info()"
   ]
  },
  {
   "cell_type": "code",
   "execution_count": null,
   "metadata": {
    "id": "8QfsOFcmHFxn"
   },
   "outputs": [],
   "source": [
    "# Copy amazon data frame into new variable to drop not required columns\n",
    "\n",
    "amazon_df_v1 = amazon_df"
   ]
  },
  {
   "cell_type": "code",
   "execution_count": null,
   "metadata": {
    "colab": {
     "base_uri": "https://localhost:8080/"
    },
    "id": "ys2qNn7jEaZt",
    "outputId": "6ab14af9-4d73-4d7e-e750-3d7e96099fa0"
   },
   "outputs": [
    {
     "name": "stdout",
     "output_type": "stream",
     "text": [
      "Unnamed: 17\n",
      "Unnamed: 18\n",
      "Unnamed: 19\n",
      "Unnamed: 20\n",
      "Unnamed: 21\n"
     ]
    },
    {
     "data": {
      "text/plain": [
       "Index(['ID', 'Title', 'Author', 'Price', 'Edition', 'ASIN', 'ISBN_13',\n",
       "       'ISBN_10', 'Paperback', 'Series', 'Publisher_dummy', 'Publisher',\n",
       "       'Publication_Date', 'Sold_by', 'Language', 'Product Dimensions',\n",
       "       'Shipping Weight'],\n",
       "      dtype='object')"
      ]
     },
     "execution_count": 17,
     "metadata": {},
     "output_type": "execute_result"
    }
   ],
   "source": [
    "# Filter and drop all unnamed columns\n",
    "\n",
    "\n",
    "for c in amazon_df_v1.columns:\n",
    "  if \"unnamed\" in c.lower() :\n",
    "    amazon_df_v1.drop([str(c)],axis=1,inplace = True)\n",
    "    print(c)\n",
    "amazon_df_v1.columns\n"
   ]
  },
  {
   "cell_type": "code",
   "execution_count": null,
   "metadata": {
    "colab": {
     "base_uri": "https://localhost:8080/"
    },
    "id": "poCZEak1HVol",
    "outputId": "dba3f6bd-8cf8-4a85-8cf3-35ff18deb78e"
   },
   "outputs": [
    {
     "name": "stdout",
     "output_type": "stream",
     "text": [
      "<class 'pandas.core.frame.DataFrame'>\n",
      "RangeIndex: 8639 entries, 0 to 8638\n",
      "Data columns (total 17 columns):\n",
      " #   Column              Non-Null Count  Dtype \n",
      "---  ------              --------------  ----- \n",
      " 0   ID                  8639 non-null   int64 \n",
      " 1   Title               8506 non-null   object\n",
      " 2   Author              8502 non-null   object\n",
      " 3   Price               8510 non-null   object\n",
      " 4   Edition             6700 non-null   object\n",
      " 5   ASIN                1807 non-null   object\n",
      " 6   ISBN_13             5377 non-null   object\n",
      " 7   ISBN_10             5377 non-null   object\n",
      " 8   Paperback           3477 non-null   object\n",
      " 9   Series              2791 non-null   object\n",
      " 10  Publisher_dummy     6181 non-null   object\n",
      " 11  Publisher           6181 non-null   object\n",
      " 12  Publication_Date    1752 non-null   object\n",
      " 13  Sold_by             1752 non-null   object\n",
      " 14  Language            7124 non-null   object\n",
      " 15  Product Dimensions  5352 non-null   object\n",
      " 16  Shipping Weight     5373 non-null   object\n",
      "dtypes: int64(1), object(16)\n",
      "memory usage: 1.1+ MB\n"
     ]
    }
   ],
   "source": [
    "# amazon_df_v1[['ISBN_13']].isnull().sum()\n",
    "amazon_df_v1.info()"
   ]
  },
  {
   "cell_type": "code",
   "execution_count": null,
   "metadata": {
    "colab": {
     "base_uri": "https://localhost:8080/"
    },
    "id": "sfO77ipTxQeK",
    "outputId": "158c2f14-11b2-45b6-89ee-e250159573f3"
   },
   "outputs": [
    {
     "name": "stdout",
     "output_type": "stream",
     "text": [
      "<class 'pandas.core.frame.DataFrame'>\n",
      "Int64Index: 5377 entries, 0 to 8221\n",
      "Data columns (total 17 columns):\n",
      " #   Column              Non-Null Count  Dtype \n",
      "---  ------              --------------  ----- \n",
      " 0   ID                  5377 non-null   int64 \n",
      " 1   Title               5377 non-null   object\n",
      " 2   Author              5373 non-null   object\n",
      " 3   Price               5377 non-null   object\n",
      " 4   Edition             4568 non-null   object\n",
      " 5   ASIN                48 non-null     object\n",
      " 6   ISBN_13             5377 non-null   object\n",
      " 7   ISBN_10             5377 non-null   object\n",
      " 8   Paperback           3477 non-null   object\n",
      " 9   Series              2791 non-null   object\n",
      " 10  Publisher_dummy     5376 non-null   object\n",
      " 11  Publisher           5376 non-null   object\n",
      " 12  Publication_Date    0 non-null      object\n",
      " 13  Sold_by             0 non-null      object\n",
      " 14  Language            5372 non-null   object\n",
      " 15  Product Dimensions  5351 non-null   object\n",
      " 16  Shipping Weight     5372 non-null   object\n",
      "dtypes: int64(1), object(16)\n",
      "memory usage: 756.1+ KB\n"
     ]
    }
   ],
   "source": [
    "#### 1c\n",
    "\n",
    "# TODO: clean up any rows that seem to be all nulls\n",
    "\n",
    "## Based on ISBN_13 I have to join further so I can drop the row which has ISBN_13 record is null\n",
    "\n",
    "\n",
    "amazon_df_v1.dropna(subset=['ISBN_13'], inplace = True)\n",
    "amazon_df_v1.info()"
   ]
  },
  {
   "cell_type": "markdown",
   "metadata": {
    "id": "MypQBVfPOFkp"
   },
   "source": [
    "# Part 2. Record Linking by Join\n",
    "\n",
    "Now we want to compare prices, between Barnes and Noble and Amazon.\n",
    "\n",
    "How do we best link what's in these tables, to do the comparison?\n",
    "\n",
    "We'll try various options."
   ]
  },
  {
   "cell_type": "markdown",
   "metadata": {
    "id": "18D5UwOgOjaZ"
   },
   "source": [
    "## 2.1. Join based on ISBN-13.\n",
    "\n",
    "Let's first try the most obvious thing, which is to join based on the ISBN-13 numbers."
   ]
  },
  {
   "cell_type": "code",
   "execution_count": null,
   "metadata": {
    "colab": {
     "base_uri": "https://localhost:8080/"
    },
    "id": "8VmDOwWfOE9C",
    "outputId": "ad6da897-79df-474b-f835-df95c7bf5860"
   },
   "outputs": [
    {
     "data": {
      "text/plain": [
       "Index(['ID', 'Title', 'Author', 'Hardcover', 'Paperback', 'NOOK_Book',\n",
       "       'Audiobook', 'ISBN_13_DUMMY', 'ISBN_13', 'Series', 'Publisher',\n",
       "       'Sales_rank', 'Pages', 'Product_dimensions'],\n",
       "      dtype='object')"
      ]
     },
     "execution_count": 20,
     "metadata": {},
     "output_type": "execute_result"
    }
   ],
   "source": [
    "nobel_df.columns"
   ]
  },
  {
   "cell_type": "code",
   "execution_count": null,
   "metadata": {
    "colab": {
     "base_uri": "https://localhost:8080/"
    },
    "id": "bBz2JCcmOGne",
    "outputId": "cc6537ba-19b8-41dd-b076-696a98cd2215"
   },
   "outputs": [
    {
     "data": {
      "text/plain": [
       "Index(['ID', 'Title', 'Author', 'Price', 'Edition', 'ASIN', 'ISBN_13',\n",
       "       'ISBN_10', 'Paperback', 'Series', 'Publisher_dummy', 'Publisher',\n",
       "       'Publication_Date', 'Sold_by', 'Language', 'Product Dimensions',\n",
       "       'Shipping Weight'],\n",
       "      dtype='object')"
      ]
     },
     "execution_count": 21,
     "metadata": {},
     "output_type": "execute_result"
    }
   ],
   "source": [
    "amazon_df_v1.columns"
   ]
  },
  {
   "cell_type": "code",
   "execution_count": null,
   "metadata": {
    "colab": {
     "base_uri": "https://localhost:8080/",
     "height": 441
    },
    "id": "mw8B_rdKNj2m",
    "outputId": "b6294cba-c19a-40e1-f9dd-a09b7ee80a24"
   },
   "outputs": [
    {
     "name": "stdout",
     "output_type": "stream",
     "text": [
      "(9958, 5)\n"
     ]
    },
    {
     "data": {
      "text/html": [
       "\n",
       "  <div id=\"df-6213082a-4533-4e65-a820-5e138bacd6b9\" class=\"colab-df-container\">\n",
       "    <div>\n",
       "<style scoped>\n",
       "    .dataframe tbody tr th:only-of-type {\n",
       "        vertical-align: middle;\n",
       "    }\n",
       "\n",
       "    .dataframe tbody tr th {\n",
       "        vertical-align: top;\n",
       "    }\n",
       "\n",
       "    .dataframe thead th {\n",
       "        text-align: right;\n",
       "    }\n",
       "</style>\n",
       "<table border=\"1\" class=\"dataframe\">\n",
       "  <thead>\n",
       "    <tr style=\"text-align: right;\">\n",
       "      <th></th>\n",
       "      <th>ISBN_13</th>\n",
       "      <th>Title</th>\n",
       "      <th>Author</th>\n",
       "      <th>Price</th>\n",
       "      <th>_merge</th>\n",
       "    </tr>\n",
       "  </thead>\n",
       "  <tbody>\n",
       "    <tr>\n",
       "      <th>0</th>\n",
       "      <td>978-1935589679</td>\n",
       "      <td>A Guide to the Project Management Body of Know...</td>\n",
       "      <td>Project Management Institute</td>\n",
       "      <td>NaN</td>\n",
       "      <td>left_only</td>\n",
       "    </tr>\n",
       "    <tr>\n",
       "      <th>1</th>\n",
       "      <td>978-1491947173</td>\n",
       "      <td>Windows 10: The Missing Manual</td>\n",
       "      <td>David Pogue</td>\n",
       "      <td>NaN</td>\n",
       "      <td>left_only</td>\n",
       "    </tr>\n",
       "    <tr>\n",
       "      <th>2</th>\n",
       "      <td>978-0988262508</td>\n",
       "      <td>The Phoenix Project: A Novel about IT, DevOps,...</td>\n",
       "      <td>Gene Kim# Kevin Behr# George Spafford</td>\n",
       "      <td>NaN</td>\n",
       "      <td>left_only</td>\n",
       "    </tr>\n",
       "    <tr>\n",
       "      <th>3</th>\n",
       "      <td>978-1594205552</td>\n",
       "      <td>Reclaiming Conversation: The Power of Talk in ...</td>\n",
       "      <td>Sherry Turkle</td>\n",
       "      <td>NaN</td>\n",
       "      <td>left_only</td>\n",
       "    </tr>\n",
       "    <tr>\n",
       "      <th>4</th>\n",
       "      <td>978-1476791616</td>\n",
       "      <td>A Work in Progress</td>\n",
       "      <td>Connor Franta</td>\n",
       "      <td>NaN</td>\n",
       "      <td>left_only</td>\n",
       "    </tr>\n",
       "    <tr>\n",
       "      <th>...</th>\n",
       "      <td>...</td>\n",
       "      <td>...</td>\n",
       "      <td>...</td>\n",
       "      <td>...</td>\n",
       "      <td>...</td>\n",
       "    </tr>\n",
       "    <tr>\n",
       "      <th>9953</th>\n",
       "      <td>294-0012362599</td>\n",
       "      <td>Articles Into Videos</td>\n",
       "      <td>Anonymous</td>\n",
       "      <td>NaN</td>\n",
       "      <td>left_only</td>\n",
       "    </tr>\n",
       "    <tr>\n",
       "      <th>9954</th>\n",
       "      <td>978-1605207247</td>\n",
       "      <td>Red Hot Internet Publicity</td>\n",
       "      <td>Penny C. Sansevieri</td>\n",
       "      <td>NaN</td>\n",
       "      <td>left_only</td>\n",
       "    </tr>\n",
       "    <tr>\n",
       "      <th>9955</th>\n",
       "      <td>978-1600595806</td>\n",
       "      <td>Creative Optical &amp; Digital Filter Techniques</td>\n",
       "      <td>Joseph R. Meehan</td>\n",
       "      <td>NaN</td>\n",
       "      <td>left_only</td>\n",
       "    </tr>\n",
       "    <tr>\n",
       "      <th>9956</th>\n",
       "      <td>294-0151569019</td>\n",
       "      <td>Blog Business</td>\n",
       "      <td>Mark Twain</td>\n",
       "      <td>NaN</td>\n",
       "      <td>left_only</td>\n",
       "    </tr>\n",
       "    <tr>\n",
       "      <th>9957</th>\n",
       "      <td>978-1430258247</td>\n",
       "      <td>Beginning Sensor Networks with Arduino and Ras...</td>\n",
       "      <td>Charles Bell</td>\n",
       "      <td>$17.27</td>\n",
       "      <td>both</td>\n",
       "    </tr>\n",
       "  </tbody>\n",
       "</table>\n",
       "<p>9958 rows × 5 columns</p>\n",
       "</div>\n",
       "    <div class=\"colab-df-buttons\">\n",
       "\n",
       "  <div class=\"colab-df-container\">\n",
       "    <button class=\"colab-df-convert\" onclick=\"convertToInteractive('df-6213082a-4533-4e65-a820-5e138bacd6b9')\"\n",
       "            title=\"Convert this dataframe to an interactive table.\"\n",
       "            style=\"display:none;\">\n",
       "\n",
       "  <svg xmlns=\"http://www.w3.org/2000/svg\" height=\"24px\" viewBox=\"0 -960 960 960\">\n",
       "    <path d=\"M120-120v-720h720v720H120Zm60-500h600v-160H180v160Zm220 220h160v-160H400v160Zm0 220h160v-160H400v160ZM180-400h160v-160H180v160Zm440 0h160v-160H620v160ZM180-180h160v-160H180v160Zm440 0h160v-160H620v160Z\"/>\n",
       "  </svg>\n",
       "    </button>\n",
       "\n",
       "  <style>\n",
       "    .colab-df-container {\n",
       "      display:flex;\n",
       "      gap: 12px;\n",
       "    }\n",
       "\n",
       "    .colab-df-convert {\n",
       "      background-color: #E8F0FE;\n",
       "      border: none;\n",
       "      border-radius: 50%;\n",
       "      cursor: pointer;\n",
       "      display: none;\n",
       "      fill: #1967D2;\n",
       "      height: 32px;\n",
       "      padding: 0 0 0 0;\n",
       "      width: 32px;\n",
       "    }\n",
       "\n",
       "    .colab-df-convert:hover {\n",
       "      background-color: #E2EBFA;\n",
       "      box-shadow: 0px 1px 2px rgba(60, 64, 67, 0.3), 0px 1px 3px 1px rgba(60, 64, 67, 0.15);\n",
       "      fill: #174EA6;\n",
       "    }\n",
       "\n",
       "    .colab-df-buttons div {\n",
       "      margin-bottom: 4px;\n",
       "    }\n",
       "\n",
       "    [theme=dark] .colab-df-convert {\n",
       "      background-color: #3B4455;\n",
       "      fill: #D2E3FC;\n",
       "    }\n",
       "\n",
       "    [theme=dark] .colab-df-convert:hover {\n",
       "      background-color: #434B5C;\n",
       "      box-shadow: 0px 1px 3px 1px rgba(0, 0, 0, 0.15);\n",
       "      filter: drop-shadow(0px 1px 2px rgba(0, 0, 0, 0.3));\n",
       "      fill: #FFFFFF;\n",
       "    }\n",
       "  </style>\n",
       "\n",
       "    <script>\n",
       "      const buttonEl =\n",
       "        document.querySelector('#df-6213082a-4533-4e65-a820-5e138bacd6b9 button.colab-df-convert');\n",
       "      buttonEl.style.display =\n",
       "        google.colab.kernel.accessAllowed ? 'block' : 'none';\n",
       "\n",
       "      async function convertToInteractive(key) {\n",
       "        const element = document.querySelector('#df-6213082a-4533-4e65-a820-5e138bacd6b9');\n",
       "        const dataTable =\n",
       "          await google.colab.kernel.invokeFunction('convertToInteractive',\n",
       "                                                    [key], {});\n",
       "        if (!dataTable) return;\n",
       "\n",
       "        const docLinkHtml = 'Like what you see? Visit the ' +\n",
       "          '<a target=\"_blank\" href=https://colab.research.google.com/notebooks/data_table.ipynb>data table notebook</a>'\n",
       "          + ' to learn more about interactive tables.';\n",
       "        element.innerHTML = '';\n",
       "        dataTable['output_type'] = 'display_data';\n",
       "        await google.colab.output.renderOutput(dataTable, element);\n",
       "        const docLink = document.createElement('div');\n",
       "        docLink.innerHTML = docLinkHtml;\n",
       "        element.appendChild(docLink);\n",
       "      }\n",
       "    </script>\n",
       "  </div>\n",
       "\n",
       "\n",
       "<div id=\"df-04582127-f4fe-48c9-b86f-ebdcab9ef530\">\n",
       "  <button class=\"colab-df-quickchart\" onclick=\"quickchart('df-04582127-f4fe-48c9-b86f-ebdcab9ef530')\"\n",
       "            title=\"Suggest charts.\"\n",
       "            style=\"display:none;\">\n",
       "\n",
       "<svg xmlns=\"http://www.w3.org/2000/svg\" height=\"24px\"viewBox=\"0 0 24 24\"\n",
       "     width=\"24px\">\n",
       "    <g>\n",
       "        <path d=\"M19 3H5c-1.1 0-2 .9-2 2v14c0 1.1.9 2 2 2h14c1.1 0 2-.9 2-2V5c0-1.1-.9-2-2-2zM9 17H7v-7h2v7zm4 0h-2V7h2v10zm4 0h-2v-4h2v4z\"/>\n",
       "    </g>\n",
       "</svg>\n",
       "  </button>\n",
       "\n",
       "<style>\n",
       "  .colab-df-quickchart {\n",
       "      --bg-color: #E8F0FE;\n",
       "      --fill-color: #1967D2;\n",
       "      --hover-bg-color: #E2EBFA;\n",
       "      --hover-fill-color: #174EA6;\n",
       "      --disabled-fill-color: #AAA;\n",
       "      --disabled-bg-color: #DDD;\n",
       "  }\n",
       "\n",
       "  [theme=dark] .colab-df-quickchart {\n",
       "      --bg-color: #3B4455;\n",
       "      --fill-color: #D2E3FC;\n",
       "      --hover-bg-color: #434B5C;\n",
       "      --hover-fill-color: #FFFFFF;\n",
       "      --disabled-bg-color: #3B4455;\n",
       "      --disabled-fill-color: #666;\n",
       "  }\n",
       "\n",
       "  .colab-df-quickchart {\n",
       "    background-color: var(--bg-color);\n",
       "    border: none;\n",
       "    border-radius: 50%;\n",
       "    cursor: pointer;\n",
       "    display: none;\n",
       "    fill: var(--fill-color);\n",
       "    height: 32px;\n",
       "    padding: 0;\n",
       "    width: 32px;\n",
       "  }\n",
       "\n",
       "  .colab-df-quickchart:hover {\n",
       "    background-color: var(--hover-bg-color);\n",
       "    box-shadow: 0 1px 2px rgba(60, 64, 67, 0.3), 0 1px 3px 1px rgba(60, 64, 67, 0.15);\n",
       "    fill: var(--button-hover-fill-color);\n",
       "  }\n",
       "\n",
       "  .colab-df-quickchart-complete:disabled,\n",
       "  .colab-df-quickchart-complete:disabled:hover {\n",
       "    background-color: var(--disabled-bg-color);\n",
       "    fill: var(--disabled-fill-color);\n",
       "    box-shadow: none;\n",
       "  }\n",
       "\n",
       "  .colab-df-spinner {\n",
       "    border: 2px solid var(--fill-color);\n",
       "    border-color: transparent;\n",
       "    border-bottom-color: var(--fill-color);\n",
       "    animation:\n",
       "      spin 1s steps(1) infinite;\n",
       "  }\n",
       "\n",
       "  @keyframes spin {\n",
       "    0% {\n",
       "      border-color: transparent;\n",
       "      border-bottom-color: var(--fill-color);\n",
       "      border-left-color: var(--fill-color);\n",
       "    }\n",
       "    20% {\n",
       "      border-color: transparent;\n",
       "      border-left-color: var(--fill-color);\n",
       "      border-top-color: var(--fill-color);\n",
       "    }\n",
       "    30% {\n",
       "      border-color: transparent;\n",
       "      border-left-color: var(--fill-color);\n",
       "      border-top-color: var(--fill-color);\n",
       "      border-right-color: var(--fill-color);\n",
       "    }\n",
       "    40% {\n",
       "      border-color: transparent;\n",
       "      border-right-color: var(--fill-color);\n",
       "      border-top-color: var(--fill-color);\n",
       "    }\n",
       "    60% {\n",
       "      border-color: transparent;\n",
       "      border-right-color: var(--fill-color);\n",
       "    }\n",
       "    80% {\n",
       "      border-color: transparent;\n",
       "      border-right-color: var(--fill-color);\n",
       "      border-bottom-color: var(--fill-color);\n",
       "    }\n",
       "    90% {\n",
       "      border-color: transparent;\n",
       "      border-bottom-color: var(--fill-color);\n",
       "    }\n",
       "  }\n",
       "</style>\n",
       "\n",
       "  <script>\n",
       "    async function quickchart(key) {\n",
       "      const quickchartButtonEl =\n",
       "        document.querySelector('#' + key + ' button');\n",
       "      quickchartButtonEl.disabled = true;  // To prevent multiple clicks.\n",
       "      quickchartButtonEl.classList.add('colab-df-spinner');\n",
       "      try {\n",
       "        const charts = await google.colab.kernel.invokeFunction(\n",
       "            'suggestCharts', [key], {});\n",
       "      } catch (error) {\n",
       "        console.error('Error during call to suggestCharts:', error);\n",
       "      }\n",
       "      quickchartButtonEl.classList.remove('colab-df-spinner');\n",
       "      quickchartButtonEl.classList.add('colab-df-quickchart-complete');\n",
       "    }\n",
       "    (() => {\n",
       "      let quickchartButtonEl =\n",
       "        document.querySelector('#df-04582127-f4fe-48c9-b86f-ebdcab9ef530 button');\n",
       "      quickchartButtonEl.style.display =\n",
       "        google.colab.kernel.accessAllowed ? 'block' : 'none';\n",
       "    })();\n",
       "  </script>\n",
       "</div>\n",
       "    </div>\n",
       "  </div>\n"
      ],
      "text/plain": [
       "             ISBN_13                                              Title  \\\n",
       "0     978-1935589679  A Guide to the Project Management Body of Know...   \n",
       "1     978-1491947173                     Windows 10: The Missing Manual   \n",
       "2     978-0988262508  The Phoenix Project: A Novel about IT, DevOps,...   \n",
       "3     978-1594205552  Reclaiming Conversation: The Power of Talk in ...   \n",
       "4     978-1476791616                                 A Work in Progress   \n",
       "...              ...                                                ...   \n",
       "9953  294-0012362599                               Articles Into Videos   \n",
       "9954  978-1605207247                         Red Hot Internet Publicity   \n",
       "9955  978-1600595806       Creative Optical & Digital Filter Techniques   \n",
       "9956  294-0151569019                                      Blog Business   \n",
       "9957  978-1430258247  Beginning Sensor Networks with Arduino and Ras...   \n",
       "\n",
       "                                     Author    Price     _merge  \n",
       "0              Project Management Institute      NaN  left_only  \n",
       "1                               David Pogue      NaN  left_only  \n",
       "2     Gene Kim# Kevin Behr# George Spafford      NaN  left_only  \n",
       "3                             Sherry Turkle      NaN  left_only  \n",
       "4                             Connor Franta      NaN  left_only  \n",
       "...                                     ...      ...        ...  \n",
       "9953                              Anonymous      NaN  left_only  \n",
       "9954                    Penny C. Sansevieri      NaN  left_only  \n",
       "9955                       Joseph R. Meehan      NaN  left_only  \n",
       "9956                             Mark Twain      NaN  left_only  \n",
       "9957                           Charles Bell  $17.27        both  \n",
       "\n",
       "[9958 rows x 5 columns]"
      ]
     },
     "execution_count": 22,
     "metadata": {},
     "output_type": "execute_result"
    }
   ],
   "source": [
    "#### 2a\n",
    "\n",
    "# TODO: join bn_books_df on ISBN_13.  Output\n",
    "# the ISBN, title, author, prices\n",
    "\n",
    "# Join nobel_df with amazon_df_v1 using ISBN_13 column\n",
    "\n",
    "# nobel_df.ISBN_13.unique()\n",
    "# amazon_df_v1.ISBN_13.unique()\n",
    "\n",
    "merge_df = nobel_df[['ISBN_13','Title', 'Author']].merge(amazon_df_v1[['ISBN_13', 'Price']]\n",
    "                                                                  , left_on = ['ISBN_13']\n",
    "                                                                  , right_on = ['ISBN_13'], how='left', indicator = True)\n",
    "print(merge_df.shape)\n",
    "merge_df"
   ]
  },
  {
   "cell_type": "code",
   "execution_count": null,
   "metadata": {
    "colab": {
     "base_uri": "https://localhost:8080/"
    },
    "id": "wJHkdv8RNBxi",
    "outputId": "7fd17cf9-33a1-45fd-b225-93925d76c438"
   },
   "outputs": [
    {
     "data": {
      "text/plain": [
       "2460"
      ]
     },
     "execution_count": 23,
     "metadata": {},
     "output_type": "execute_result"
    }
   ],
   "source": [
    "merge_df[~(merge_df['Price'].isnull())].count().sum() ## Filter and count not null Price column values"
   ]
  },
  {
   "cell_type": "markdown",
   "metadata": {
    "id": "os5dJvmm4mnk"
   },
   "source": [
    "### How many missing ISBNs?\n",
    "\n",
    "The above looks good, but are we missing things because of null values?"
   ]
  },
  {
   "cell_type": "code",
   "execution_count": null,
   "metadata": {
    "colab": {
     "base_uri": "https://localhost:8080/"
    },
    "id": "c0jLwsIP4WrC",
    "outputId": "a6d4bd7d-e11f-4da8-e550-469641350c36"
   },
   "outputs": [
    {
     "name": "stdout",
     "output_type": "stream",
     "text": [
      "<class 'pandas.core.frame.DataFrame'>\n",
      "RangeIndex: 9958 entries, 0 to 9957\n",
      "Data columns (total 14 columns):\n",
      " #   Column              Non-Null Count  Dtype  \n",
      "---  ------              --------------  -----  \n",
      " 0   ID                  9958 non-null   int64  \n",
      " 1   Title               9955 non-null   object \n",
      " 2   Author              9951 non-null   object \n",
      " 3   Hardcover           1146 non-null   object \n",
      " 4   Paperback           6270 non-null   object \n",
      " 5   NOOK_Book           5921 non-null   object \n",
      " 6   Audiobook           106 non-null    object \n",
      " 7   ISBN_13_DUMMY       9952 non-null   float64\n",
      " 8   ISBN_13             9958 non-null   object \n",
      " 9   Series              3064 non-null   object \n",
      " 10  Publisher           9948 non-null   object \n",
      " 11  Sales_rank          9232 non-null   object \n",
      " 12  Pages               7940 non-null   float64\n",
      " 13  Product_dimensions  6837 non-null   object \n",
      "dtypes: float64(2), int64(1), object(11)\n",
      "memory usage: 1.1+ MB\n"
     ]
    }
   ],
   "source": [
    "#### 2b\n",
    "\n",
    "# TODO: count number of nulls for ISBN_13 in Barnes and Noble\n",
    "\n",
    "nobel_df.info()"
   ]
  },
  {
   "cell_type": "code",
   "execution_count": null,
   "metadata": {
    "colab": {
     "base_uri": "https://localhost:8080/"
    },
    "id": "sZ1mKv1NJ0GC",
    "outputId": "cb56ff45-2f76-47df-c72d-6596914f32b5"
   },
   "outputs": [
    {
     "data": {
      "text/plain": [
       "ISBN_13    0\n",
       "dtype: int64"
      ]
     },
     "execution_count": 30,
     "metadata": {},
     "output_type": "execute_result"
    }
   ],
   "source": [
    "# nobel_df[nobel_df['ISBN_13'].isnull()].count()\n",
    "\n",
    "nobel_df[['ISBN_13']].isnull().sum() ## There are Zero null values of a column\n",
    "# nobel_df.shape"
   ]
  },
  {
   "cell_type": "code",
   "execution_count": null,
   "metadata": {
    "colab": {
     "base_uri": "https://localhost:8080/"
    },
    "id": "rkDNthXJ4hQg",
    "outputId": "904bcd0c-2123-4f69-86ed-0124090b9fc8"
   },
   "outputs": [
    {
     "data": {
      "text/plain": [
       "23419"
      ]
     },
     "execution_count": 31,
     "metadata": {},
     "output_type": "execute_result"
    }
   ],
   "source": [
    "#### 2c\n",
    "\n",
    "# TODO: count number of nulls for ISBN_13 in Amazon\n",
    "amazon_df = pd.read_csv(amazon_path)\n",
    "\n",
    "amazon_df[amazon_df['ISBN_13'].isnull()].count().sum()"
   ]
  },
  {
   "cell_type": "markdown",
   "metadata": {
    "id": "8R16ryyWOqqx"
   },
   "source": [
    "## 2.2. Join based on Title.\n",
    "\n",
    "Let's try a more tolerant join."
   ]
  },
  {
   "cell_type": "code",
   "execution_count": null,
   "metadata": {
    "colab": {
     "base_uri": "https://localhost:8080/"
    },
    "id": "cV09cCJiNKnN",
    "outputId": "de463083-0438-48d7-bcf4-a68bcc0007f0"
   },
   "outputs": [
    {
     "data": {
      "text/plain": [
       "2863"
      ]
     },
     "execution_count": 33,
     "metadata": {},
     "output_type": "execute_result"
    }
   ],
   "source": [
    "#### 2d\n",
    "\n",
    "# TODO: join bn_books_df on Title.  Output\n",
    "# the ISBN, title, author, prices\n",
    "\n",
    "# Join nobel_df with amazon_df_v1 using ISBN_13 column\n",
    "\n",
    "\n",
    "title_merge_df = nobel_df[['ISBN_13','Title','Author']].merge(amazon_df[['Title','Price']]\n",
    "                                                              , left_on = ['Title']\n",
    "                                                              , right_on = ['Title']\n",
    "                                                              , how = 'left'\n",
    "                                                              , indicator = True)\n",
    "\n",
    "title_merge_df[title_merge_df['_merge'] == 'both'].count().sum() ## We con consider this records are common"
   ]
  },
  {
   "cell_type": "code",
   "execution_count": null,
   "metadata": {
    "colab": {
     "base_uri": "https://localhost:8080/"
    },
    "id": "Uafl8tY3Rgf4",
    "outputId": "dac97ca5-e4a7-42b8-d9c9-4ae75aa38d91"
   },
   "outputs": [
    {
     "name": "stdout",
     "output_type": "stream",
     "text": [
      "<class 'pandas.core.frame.DataFrame'>\n",
      "RangeIndex: 8639 entries, 0 to 8638\n",
      "Data columns (total 22 columns):\n",
      " #   Column              Non-Null Count  Dtype  \n",
      "---  ------              --------------  -----  \n",
      " 0   ID                  8639 non-null   int64  \n",
      " 1   Title               8506 non-null   object \n",
      " 2   Author              8502 non-null   object \n",
      " 3   Price               8510 non-null   object \n",
      " 4   Edition             6700 non-null   object \n",
      " 5   ASIN                1807 non-null   object \n",
      " 6   ISBN_13             5377 non-null   object \n",
      " 7   ISBN_10             5377 non-null   object \n",
      " 8   Paperback           3477 non-null   object \n",
      " 9   Series              2791 non-null   object \n",
      " 10  Publisher_dummy     6181 non-null   object \n",
      " 11  Publisher           6181 non-null   object \n",
      " 12  Publication_Date    1752 non-null   object \n",
      " 13  Sold_by             1752 non-null   object \n",
      " 14  Language            7124 non-null   object \n",
      " 15  Product Dimensions  5352 non-null   object \n",
      " 16  Shipping Weight     5373 non-null   object \n",
      " 17  Unnamed: 17         0 non-null      float64\n",
      " 18  Unnamed: 18         0 non-null      float64\n",
      " 19  Unnamed: 19         26 non-null     object \n",
      " 20  Unnamed: 20         3 non-null      object \n",
      " 21  Unnamed: 21         1 non-null      object \n",
      "dtypes: float64(2), int64(1), object(19)\n",
      "memory usage: 1.5+ MB\n"
     ]
    }
   ],
   "source": [
    "amazon_df.info()"
   ]
  },
  {
   "cell_type": "code",
   "execution_count": null,
   "metadata": {
    "colab": {
     "base_uri": "https://localhost:8080/"
    },
    "id": "9UvLMKS3Roce",
    "outputId": "46f27285-23ec-4204-8f7b-35f9c289ef0f"
   },
   "outputs": [
    {
     "name": "stdout",
     "output_type": "stream",
     "text": [
      "<class 'pandas.core.frame.DataFrame'>\n",
      "RangeIndex: 9958 entries, 0 to 9957\n",
      "Data columns (total 15 columns):\n",
      " #   Column              Non-Null Count  Dtype  \n",
      "---  ------              --------------  -----  \n",
      " 0   ID                  9958 non-null   int64  \n",
      " 1   Title               9955 non-null   object \n",
      " 2   Author              9951 non-null   object \n",
      " 3   Hardcover           1146 non-null   object \n",
      " 4   Paperback           6270 non-null   object \n",
      " 5   NOOK_Book           5921 non-null   object \n",
      " 6   Audiobook           106 non-null    object \n",
      " 7   ISBN_13_DUMMY       9952 non-null   float64\n",
      " 8   ISBN_13             9958 non-null   object \n",
      " 9   Series              3064 non-null   object \n",
      " 10  Publisher           9948 non-null   object \n",
      " 11  Publication_Date    0 non-null      float64\n",
      " 12  Sales_rank          9232 non-null   object \n",
      " 13  Pages               7940 non-null   float64\n",
      " 14  Product_dimensions  6837 non-null   object \n",
      "dtypes: float64(3), int64(1), object(11)\n",
      "memory usage: 1.1+ MB\n"
     ]
    }
   ],
   "source": [
    "nobel_df.info()"
   ]
  },
  {
   "cell_type": "code",
   "execution_count": null,
   "metadata": {
    "id": "R3PruXZOIg8m"
   },
   "outputs": [],
   "source": []
  }
 ],
 "metadata": {
  "colab": {
   "provenance": [],
   "toc_visible": true
  },
  "kernelspec": {
   "display_name": "Python 3 (ipykernel)",
   "language": "python",
   "name": "python3"
  },
  "language_info": {
   "codemirror_mode": {
    "name": "ipython",
    "version": 3
   },
   "file_extension": ".py",
   "mimetype": "text/x-python",
   "name": "python",
   "nbconvert_exporter": "python",
   "pygments_lexer": "ipython3",
   "version": "3.10.9"
  }
 },
 "nbformat": 4,
 "nbformat_minor": 1
}
