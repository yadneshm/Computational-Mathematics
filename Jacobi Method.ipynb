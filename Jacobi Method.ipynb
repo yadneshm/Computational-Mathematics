{
 "cells": [
  {
   "cell_type": "code",
   "execution_count": 1,
   "id": "aeac2a53",
   "metadata": {},
   "outputs": [
    {
     "name": "stdout",
     "output_type": "stream",
     "text": [
      "Please enter a integer value for no of rows and no of columns = 2\n",
      "Number of elements required = 4\n",
      "\n",
      "Enter 4 elements row wise.\n",
      "\n",
      "[0,0] position element = 2\n",
      "[0,1] position element = 5\n",
      "[1,0] position element = 1\n",
      "[1,1] position element = 2\n",
      "[[2 5]\n",
      " [1 2]]\n"
     ]
    }
   ],
   "source": [
    "import numpy as np\n",
    "import sys\n",
    "\n",
    "\n",
    "n = int(input(\"Please enter a integer value for no of rows and no of columns = \"))\n",
    "if n>0:\n",
    "    no_of_elements = n*n\n",
    "elif n<0:\n",
    "    n = int(input(\"Please enter a value greater then 0 = \"))\n",
    "    if n>0:\n",
    "        no_of_elements = n*n\n",
    "    else:\n",
    "        raise TypeError(\"The value is still incorrect.\")\n",
    "\n",
    "print(f\"Number of elements required = {no_of_elements}\")\n",
    "\n",
    "mat_list = [] ## Matrix List\n",
    "\n",
    "print(f\"\\nEnter {no_of_elements} elements row wise.\\n\")\n",
    "\n",
    "# loop to get the n*n number of elements into the list.\n",
    "while no_of_elements>0:\n",
    "    for i in range(n):\n",
    "        for j in range(n):\n",
    "            mat_list.append(int(input(f\"[{i},{j}] position element = \")))\n",
    "            \n",
    "            no_of_elements -= 1 # Decrease no_of_elements required each iteration by 1.\n",
    "\n",
    "m1 = np.array(mat_list).reshape(n,n) # Matrix 1\n",
    "\n",
    "print(m1)\n",
    "\n",
    "\n"
   ]
  },
  {
   "cell_type": "code",
   "execution_count": 2,
   "id": "f56d3b41",
   "metadata": {},
   "outputs": [
    {
     "name": "stdout",
     "output_type": "stream",
     "text": [
      "Enter the vectors.\n",
      "\n",
      "vectors[0] = 21\n",
      "vectors[1] = 8\n",
      "vectors = [21, 8]\n"
     ]
    }
   ],
   "source": [
    "vectors = []\n",
    "\n",
    "print(\"Enter the vectors.\\n\")\n",
    "for i in range(n):\n",
    "    vectors.append(int(input(f\"vectors[{i}] = \")))\n",
    "    \n",
    "print(f\"vectors = {vectors}\")\n",
    "\n",
    "\n",
    "\n"
   ]
  },
  {
   "cell_type": "code",
   "execution_count": 3,
   "id": "a56a0332",
   "metadata": {},
   "outputs": [
    {
     "name": "stdout",
     "output_type": "stream",
     "text": [
      "Enter initial guess.\n",
      "\n",
      "guess[0] = 0\n",
      "guess[1] = 0\n",
      "guess = [0, 0]\n",
      "[0, 0]\n"
     ]
    }
   ],
   "source": [
    "\n",
    "guess = []\n",
    "\n",
    "print(\"Enter initial guess.\\n\")\n",
    "for i in range(n):\n",
    "    guess.append(int(input(f\"guess[{i}] = \")))\n",
    "    \n",
    "print(f\"guess = {guess}\")\n",
    "\n",
    "# check whether the guess is empty or not\n",
    "if not guess:\n",
    "    print(\"The guess is null.\")\n",
    "    guess = np.zeros(n) ## If guess is null then get the list as zeros.\n",
    "    print(guess)\n",
    "    \n",
    "else:\n",
    "    print(guess)"
   ]
  },
  {
   "cell_type": "code",
   "execution_count": 5,
   "id": "2aacd0ee",
   "metadata": {},
   "outputs": [
    {
     "name": "stdout",
     "output_type": "stream",
     "text": [
      "Enter the number of iterations = 7\n",
      "++++++++++++++++++++++++++++++++++++++++++++++++++++++++++\n",
      "Iteration 1\n",
      "old_guess = [0, 0, 0]\n",
      "m1[0][0] = 2\n",
      "m1[1][1] = 2\n",
      "\n",
      "Old guess = [0, 0, 0]\n",
      "guess = [10.5, 4.0, 0]\n",
      "++++++++++++++++++++++++++++++++++++++++++++++++++++++++++\n",
      "Iteration 2\n",
      "old_guess = [10.5, 4.0, 0]\n",
      "m1[0][0] = 2\n",
      "m1[1][1] = 2\n",
      "\n",
      "Old guess = [0.5, 3.75, 0]\n",
      "guess = [0.5, 3.75, 0]\n",
      "++++++++++++++++++++++++++++++++++++++++++++++++++++++++++\n",
      "Iteration 3\n",
      "old_guess = [0.5, 3.75, 0]\n",
      "m1[0][0] = 2\n",
      "m1[1][1] = 2\n",
      "\n",
      "Old guess = [1.125, 3.4375, 0]\n",
      "guess = [1.125, 3.4375, 0]\n",
      "++++++++++++++++++++++++++++++++++++++++++++++++++++++++++\n",
      "Iteration 4\n",
      "old_guess = [1.125, 3.4375, 0]\n",
      "m1[0][0] = 2\n",
      "m1[1][1] = 2\n",
      "\n",
      "Old guess = [1.90625, 3.046875, 0]\n",
      "guess = [1.90625, 3.046875, 0]\n",
      "++++++++++++++++++++++++++++++++++++++++++++++++++++++++++\n",
      "Iteration 5\n",
      "old_guess = [1.90625, 3.046875, 0]\n",
      "m1[0][0] = 2\n",
      "m1[1][1] = 2\n",
      "\n",
      "Old guess = [2.8828125, 2.55859375, 0]\n",
      "guess = [2.8828125, 2.55859375, 0]\n",
      "++++++++++++++++++++++++++++++++++++++++++++++++++++++++++\n",
      "Iteration 6\n",
      "old_guess = [2.8828125, 2.55859375, 0]\n",
      "m1[0][0] = 2\n",
      "m1[1][1] = 2\n",
      "\n",
      "Old guess = [4.103515625, 1.9482421875, 0]\n",
      "guess = [4.103515625, 1.9482421875, 0]\n",
      "++++++++++++++++++++++++++++++++++++++++++++++++++++++++++\n",
      "Iteration 7\n",
      "old_guess = [4.103515625, 1.9482421875, 0]\n",
      "m1[0][0] = 2\n",
      "m1[1][1] = 2\n",
      "\n",
      "Old guess = [5.62939453125, 1.185302734375, 0]\n",
      "guess = [5.62939453125, 1.185302734375, 0]\n",
      "\n",
      "Diagonal element value = 2.\n",
      "Therefore we can't proceed further.\n"
     ]
    }
   ],
   "source": [
    "guess = [0, 0, 0]\n",
    "\n",
    "def change_sign(n):\n",
    "    if n==0:\n",
    "        n = 0\n",
    "    elif n<0:\n",
    "        n = n*-1\n",
    "    else:\n",
    "        n = n*-1\n",
    "    return n\n",
    "\n",
    "\n",
    "\n",
    "no_of_itt = int(input(\"Enter the number of iterations = \"))  # Number of iterations\n",
    "# x = []\n",
    "old_guess = guess.copy()\n",
    "\n",
    "\n",
    "for k in range(no_of_itt):\n",
    "    print(\"++++++++++++++++++++++++++++++++++++++++++++++++++++++++++\")\n",
    "    print(f\"Iteration {k+1}\")\n",
    "    print(f\"old_guess = {old_guess}\")\n",
    "\n",
    "    for i in range(n):\n",
    "        calculate = []\n",
    "        for j in range(n):\n",
    "            if i==j:\n",
    "                print(f\"m1[{i}][{j}] = {m1[i][j]}\")\n",
    "\n",
    "                div_val = m1[i][j]\n",
    "\n",
    "\n",
    "            else: \n",
    "                calculate.append(m1[i][j]*old_guess[j])\n",
    "\n",
    "        calculate = [change_sign(x) for x in calculate]\n",
    "        guess[i] = (vectors[i]+sum(calculate))/div_val\n",
    "\n",
    "\n",
    "\n",
    "    print(f\"\\nOld guess = {old_guess}\")\n",
    "\n",
    "    print(f\"guess = {guess}\")\n",
    "    old_guess = guess\n",
    "\n",
    "print(f\"\\nDiagonal element value = {div_val}.\\nTherefore we can't proceed further.\")"
   ]
  },
  {
   "cell_type": "code",
   "execution_count": 95,
   "id": "463db6d0",
   "metadata": {
    "scrolled": true
   },
   "outputs": [
    {
     "data": {
      "text/plain": [
       "-0.9904999999999999"
      ]
     },
     "execution_count": 95,
     "metadata": {},
     "output_type": "execute_result"
    }
   ],
   "source": [
    "(-18+(sum([-3.06, 1.25])))/20"
   ]
  },
  {
   "cell_type": "code",
   "execution_count": 127,
   "id": "b7316b03",
   "metadata": {},
   "outputs": [
    {
     "data": {
      "text/plain": [
       "2"
      ]
     },
     "execution_count": 127,
     "metadata": {},
     "output_type": "execute_result"
    }
   ],
   "source": [
    "m1[2][2]"
   ]
  },
  {
   "cell_type": "code",
   "execution_count": 29,
   "id": "49d71a51",
   "metadata": {},
   "outputs": [
    {
     "name": "stdout",
     "output_type": "stream",
     "text": [
      "[2, -4, 5]\n",
      "[2, 4, 5]\n"
     ]
    }
   ],
   "source": [
    "l = [2,-4,5]\n",
    "print(l)\n",
    "l = [change_sign(x) for x in l]\n",
    "print(l)"
   ]
  },
  {
   "cell_type": "markdown",
   "id": "f193c63c",
   "metadata": {},
   "source": [
    "# Gauss-Siedel"
   ]
  },
  {
   "cell_type": "code",
   "execution_count": 136,
   "id": "33f7221c",
   "metadata": {},
   "outputs": [
    {
     "name": "stdout",
     "output_type": "stream",
     "text": [
      "Enter initial guess.\n",
      "\n",
      "guess[0] = 0\n",
      "guess[1] = 0\n",
      "guess[2] = 0\n",
      "guess = [0, 0, 0]\n",
      "[0, 0, 0]\n",
      "Enter the number of iterations = 3\n",
      "++++++++++++++++++++++++++++++++++++++++++++++++++++++++++\n",
      "Iteration 1\n",
      "old_guess = [0, 0, 0]\n",
      "m1[0][0] = 10\n",
      "guess = [0.7, 0, 0]\n",
      "m1[1][1] = 11\n",
      "guess = [0.7, 0.3909090909090909, 0]\n",
      "m1[2][2] = 13\n",
      "guess = [0.7, 0.3909090909090909, 0.5377622377622377]\n",
      "guess = [0.7, 0.3909090909090909, 0.5377622377622377]\n",
      "++++++++++++++++++++++++++++++++++++++++++++++++++++++++++\n",
      "Iteration 2\n",
      "old_guess = [0.7, 0.3909090909090909, 0.5377622377622377]\n",
      "m1[0][0] = 10\n",
      "guess = [0.5777622377622378, 0.3909090909090909, 0.5377622377622377]\n",
      "m1[1][1] = 11\n",
      "guess = [0.5777622377622378, 0.6464589955499046, 0.5377622377622377]\n",
      "m1[2][2] = 13\n",
      "guess = [0.5777622377622378, 0.6464589955499046, 0.5762257323096484]\n",
      "guess = [0.5777622377622378, 0.6464589955499046, 0.5762257323096484]\n",
      "++++++++++++++++++++++++++++++++++++++++++++++++++++++++++\n",
      "Iteration 3\n",
      "old_guess = [0.5777622377622378, 0.6464589955499046, 0.5762257323096484]\n",
      "m1[0][0] = 10\n",
      "guess = [0.5917781798620959, 0.6464589955499046, 0.5762257323096484]\n",
      "m1[1][1] = 11\n",
      "guess = [0.5917781798620959, 0.6626682256078315, 0.5762257323096484]\n",
      "m1[2][2] = 13\n",
      "guess = [0.5917781798620959, 0.6626682256078315, 0.5753162973756646]\n",
      "guess = [0.5917781798620959, 0.6626682256078315, 0.5753162973756646]\n"
     ]
    }
   ],
   "source": [
    "guess = []\n",
    "\n",
    "print(\"Enter initial guess.\\n\")\n",
    "for i in range(n):\n",
    "    guess.append(int(input(f\"guess[{i}] = \")))\n",
    "    \n",
    "print(f\"guess = {guess}\")\n",
    "\n",
    "# check whether the guess is empty or not\n",
    "if not guess:\n",
    "    print(\"The guess is null.\")\n",
    "    guess = np.zeros(n) ## If guess is null then get the list as zeros.\n",
    "    print(guess)\n",
    "    \n",
    "else:\n",
    "    print(guess)\n",
    "\n",
    "\n",
    "\n",
    "no_of_itt = int(input(\"Enter the number of iterations = \"))  # Number of iterations\n",
    "x = []\n",
    "\n",
    "for k in range(no_of_itt):\n",
    "    print(\"++++++++++++++++++++++++++++++++++++++++++++++++++++++++++\")\n",
    "    print(f\"Iteration {k+1}\")\n",
    "    print(f\"old_guess = {guess}\")\n",
    "    \n",
    "    for i in range(n):\n",
    "        calculate = []\n",
    "        for j in range(n):\n",
    "            if i==j:\n",
    "                print(f\"m1[{i}][{j}] = {m1[i][j]}\")\n",
    "                div_val = m1[i][j]\n",
    "            else: \n",
    "                calculate.append(m1[i][j]*guess[j])\n",
    "        \n",
    "        calculate = [change_sign(x) for x in calculate]\n",
    "#         print(f\"vectors = {vectors[i]}, calculate = {calculate},div_val = {div_val} \")\n",
    "        guess[i] = (vectors[i]+sum(calculate))/div_val\n",
    "        \n",
    "        print(f\"guess = {guess}\")\n",
    "#         print(f\"calculate = {calculate}\")\n",
    "        \n",
    "        \n",
    "    print(f\"guess = {guess}\")\n",
    "    old_guess = guess\n",
    "        "
   ]
  },
  {
   "cell_type": "code",
   "execution_count": null,
   "id": "005b6326",
   "metadata": {},
   "outputs": [],
   "source": []
  }
 ],
 "metadata": {
  "kernelspec": {
   "display_name": "Python 3 (ipykernel)",
   "language": "python",
   "name": "python3"
  },
  "language_info": {
   "codemirror_mode": {
    "name": "ipython",
    "version": 3
   },
   "file_extension": ".py",
   "mimetype": "text/x-python",
   "name": "python",
   "nbconvert_exporter": "python",
   "pygments_lexer": "ipython3",
   "version": "3.10.9"
  }
 },
 "nbformat": 4,
 "nbformat_minor": 5
}
