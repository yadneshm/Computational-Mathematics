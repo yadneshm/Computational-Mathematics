{
 "cells": [
  {
   "cell_type": "markdown",
   "id": "af8ac884",
   "metadata": {},
   "source": [
    "#  Q6\n",
    "### Use the Python sympy library to calculate the expressions for A2 , A3, A4, and An from Question 5. Submit a screenshot of your code and its output. Your code should be properly formatted with adequate comments included.\n"
   ]
  },
  {
   "cell_type": "code",
   "execution_count": 5,
   "id": "09daa75d",
   "metadata": {},
   "outputs": [
    {
     "name": "stdout",
     "output_type": "stream",
     "text": [
      "Please enter a integer value for no of rows and no of columns = 2\n",
      "Number of elements required = 4\n",
      "\n",
      "Enter 4 elements row wise.\n",
      "\n",
      "[0,0] position element = 1\n",
      "[0,1] position element = 2\n",
      "[1,0] position element = 3\n",
      "[1,1] position element = 4\n"
     ]
    },
    {
     "data": {
      "text/latex": [
       "$\\displaystyle A = \\left[\\begin{matrix}1 & 2\\\\3 & 4\\end{matrix}\\right]$"
      ],
      "text/plain": [
       "<IPython.core.display.Math object>"
      ]
     },
     "metadata": {},
     "output_type": "display_data"
    },
    {
     "name": "stdout",
     "output_type": "stream",
     "text": [
      "Enter how many times the matrix should multiply = 2\n",
      "\n",
      "The Value of A power is 2\n"
     ]
    },
    {
     "data": {
      "text/latex": [
       "$\\displaystyle A**2 = \\left[\\begin{matrix}7 & 10\\\\15 & 22\\end{matrix}\\right]$"
      ],
      "text/plain": [
       "<IPython.core.display.Math object>"
      ]
     },
     "metadata": {},
     "output_type": "display_data"
    }
   ],
   "source": [
    "import numpy as np\n",
    "import sympy as sym # This library is used to calculate and display the matrix\n",
    "from IPython.display import Math,display\n",
    "\n",
    "\n",
    "n = int(input(\"Please enter a integer value for no of rows and no of columns = \"))\n",
    "\n",
    "# Get the number of elements into the matrix\n",
    "no_of_elements = n*n\n",
    "\n",
    "print(f\"Number of elements required = {no_of_elements}\")\n",
    "\n",
    "l = [] # A blank list to append the elements. \n",
    "\n",
    "\n",
    "print(f\"\\nEnter {no_of_elements} elements row wise.\\n\")\n",
    "\n",
    "# loop to get the n*n number of elements into the list.\n",
    "while no_of_elements>0:\n",
    "    for i in range(n):\n",
    "        for j in range(n):\n",
    "            l.append(int(input(f\"[{i},{j}] position element = \")))\n",
    "            \n",
    "            no_of_elements -= 1 # Decrease no_of_elements required each iteration by 1.\n",
    "\n",
    "\n",
    "\n",
    "# Reshape the list with n number of Rows and n number of Columns.\n",
    "m1 = np.array(l).reshape(n,n) # Matrix 1\n",
    "\n",
    "copy_m1 = sym.Matrix(sym.simplify(m1)) # Copy of Matrix 1\n",
    "\n",
    "\n",
    "# Display the matrix A.\n",
    "display(Math(f\"A = {sym.latex(sym.Matrix(sym.simplify(m1)))}\"))\n",
    "\n",
    "# Get the number of times the matrix should multiply.\n",
    "mat_mul = int(input(\"Enter how many times the matrix should multiply = \") )\n",
    "if mat_mul>1:\n",
    "    for i in range(mat_mul-1):\n",
    "        m1 = sym.Matrix(sym.simplify(m1*copy_m1)) \n",
    "    print(f\"\\nThe Value of A power is {mat_mul}\")\n",
    "        \n",
    "    display(Math(f\"A**{mat_mul} = {sym.latex(sym.simplify(m1))}\"))\n",
    "else:\n",
    "    print(f\"\\nThe Value of A power is {mat_mul}\")\n",
    "    display(Math(f\"A**{mat_mul} = {sym.latex(sym.Matrix(sym.simplify(m1)))}\"))\n",
    "    \n"
   ]
  },
  {
   "cell_type": "code",
   "execution_count": null,
   "id": "4ec49e0f",
   "metadata": {},
   "outputs": [],
   "source": []
  }
 ],
 "metadata": {
  "kernelspec": {
   "display_name": "Python 3 (ipykernel)",
   "language": "python",
   "name": "python3"
  },
  "language_info": {
   "codemirror_mode": {
    "name": "ipython",
    "version": 3
   },
   "file_extension": ".py",
   "mimetype": "text/x-python",
   "name": "python",
   "nbconvert_exporter": "python",
   "pygments_lexer": "ipython3",
   "version": "3.10.9"
  }
 },
 "nbformat": 4,
 "nbformat_minor": 5
}
