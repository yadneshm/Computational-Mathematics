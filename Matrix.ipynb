{
 "cells": [
  {
   "cell_type": "code",
   "execution_count": 2,
   "id": "f1dbeb86",
   "metadata": {},
   "outputs": [
    {
     "name": "stdout",
     "output_type": "stream",
     "text": [
      "Give the number of rows:2\n",
      "Give the number of columns:2\n",
      "4\n",
      "7\n",
      "5\n",
      "5\n",
      "[[4, 7], [5, 5]]\n"
     ]
    }
   ],
   "source": [
    "Rows = int(input(\"Give the number of rows:\"))  \n",
    "Columns = int(input(\"Give the number of columns:\"))  \n",
    "matrixx = [[int(input()) for c in range (Columns)] for r in range(Rows)]  \n",
    "print(matrixx)  "
   ]
  },
  {
   "cell_type": "code",
   "execution_count": 7,
   "id": "eeda9248",
   "metadata": {},
   "outputs": [],
   "source": [
    "import numpy as np\n",
    "m = np.array(matrixx).reshape(Rows,Columns)"
   ]
  },
  {
   "cell_type": "code",
   "execution_count": 10,
   "id": "e51e19c0",
   "metadata": {},
   "outputs": [
    {
     "data": {
      "text/plain": [
       "array([[4, 7],\n",
       "       [5, 5]])"
      ]
     },
     "execution_count": 10,
     "metadata": {},
     "output_type": "execute_result"
    }
   ],
   "source": [
    "m"
   ]
  },
  {
   "cell_type": "code",
   "execution_count": 9,
   "id": "9d8a001a",
   "metadata": {},
   "outputs": [
    {
     "data": {
      "text/plain": [
       "array([[16, 49],\n",
       "       [25, 25]])"
      ]
     },
     "execution_count": 9,
     "metadata": {},
     "output_type": "execute_result"
    }
   ],
   "source": [
    "m*m"
   ]
  }
 ],
 "metadata": {
  "kernelspec": {
   "display_name": "Python 3 (ipykernel)",
   "language": "python",
   "name": "python3"
  },
  "language_info": {
   "codemirror_mode": {
    "name": "ipython",
    "version": 3
   },
   "file_extension": ".py",
   "mimetype": "text/x-python",
   "name": "python",
   "nbconvert_exporter": "python",
   "pygments_lexer": "ipython3",
   "version": "3.10.9"
  }
 },
 "nbformat": 4,
 "nbformat_minor": 5
}
