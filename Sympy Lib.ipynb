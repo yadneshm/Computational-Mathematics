{
 "cells": [
  {
   "cell_type": "code",
   "execution_count": null,
   "id": "750ad0a0",
   "metadata": {},
   "outputs": [],
   "source": []
  },
  {
   "cell_type": "code",
   "execution_count": 20,
   "id": "5d3eb5ff",
   "metadata": {},
   "outputs": [],
   "source": [
    "import numpy as np\n",
    "import sympy as sym\n",
    "from IPython.display import display, Math"
   ]
  },
  {
   "cell_type": "code",
   "execution_count": 21,
   "id": "d56a939a",
   "metadata": {},
   "outputs": [],
   "source": [
    "a = np.array([[3,1,2]\n",
    "              ,[4,3,9]\n",
    "              ,[5,6,8]])\n",
    "\n",
    "\n",
    "b = np.array([[1,1,8]\n",
    "              ,[3,7,6]\n",
    "              ,[2,6,4]])"
   ]
  },
  {
   "cell_type": "code",
   "execution_count": 22,
   "id": "901ef883",
   "metadata": {},
   "outputs": [
    {
     "name": "stdout",
     "output_type": "stream",
     "text": [
      "[[3 1 2]\n",
      " [4 3 9]\n",
      " [5 6 8]]\n",
      "\n",
      "[[1 1 8]\n",
      " [3 7 6]\n",
      " [2 6 4]]\n"
     ]
    },
    {
     "data": {
      "text/plain": [
       "array([[ 10,  22,  38],\n",
       "       [ 31,  79,  86],\n",
       "       [ 39,  95, 108]])"
      ]
     },
     "execution_count": 22,
     "metadata": {},
     "output_type": "execute_result"
    }
   ],
   "source": [
    "print(a)\n",
    "print(f'\\n{b}')\n",
    "\n",
    "\n",
    "a.dot(b)"
   ]
  },
  {
   "cell_type": "code",
   "execution_count": 32,
   "id": "29e318d2",
   "metadata": {},
   "outputs": [
    {
     "data": {
      "text/latex": [
       "$\\displaystyle a = \\left[\\begin{matrix}3 & 1 & 2\\\\4 & 3 & 9\\\\5 & 6 & 8\\end{matrix}\\right]$"
      ],
      "text/plain": [
       "<IPython.core.display.Math object>"
      ]
     },
     "metadata": {},
     "output_type": "display_data"
    },
    {
     "data": {
      "text/latex": [
       "$\\displaystyle b = \\left[\\begin{matrix}1 & 1 & 8\\\\3 & 7 & 6\\\\2 & 6 & 4\\end{matrix}\\right]$"
      ],
      "text/plain": [
       "<IPython.core.display.Math object>"
      ]
     },
     "metadata": {},
     "output_type": "display_data"
    },
    {
     "data": {
      "text/latex": [
       "$\\displaystyle a X b = \\left[\\begin{matrix}10 & 22 & 38\\\\31 & 79 & 86\\\\39 & 95 & 108\\end{matrix}\\right]$"
      ],
      "text/plain": [
       "<IPython.core.display.Math object>"
      ]
     },
     "metadata": {},
     "output_type": "display_data"
    }
   ],
   "source": [
    "display(Math(f\"a = {sym.latex(sym.simplify(a))}\"))\n",
    "\n",
    "display(Math(f\"b = {sym.latex(sym.simplify(b))}\"))\n",
    "\n",
    "display(Math(f\"a X b = {sym.latex(sym.simplify(a.dot(b)))}\"))"
   ]
  },
  {
   "cell_type": "code",
   "execution_count": 31,
   "id": "89fb36d6",
   "metadata": {},
   "outputs": [
    {
     "data": {
      "text/latex": [
       "$\\displaystyle Copy of a  = \\left[\\begin{matrix}3 & 1 & 2\\\\4 & 3 & 9\\\\5 & 6 & 8\\end{matrix}\\right]$"
      ],
      "text/plain": [
       "<IPython.core.display.Math object>"
      ]
     },
     "metadata": {},
     "output_type": "display_data"
    }
   ],
   "source": [
    "copy_a = a\n",
    "\n",
    "display(Math(f\"Copy of a  = {sym.latex(sym.simplify(copy_a))}\"))"
   ]
  },
  {
   "cell_type": "code",
   "execution_count": null,
   "id": "503bdcf8",
   "metadata": {},
   "outputs": [],
   "source": []
  },
  {
   "cell_type": "code",
   "execution_count": 43,
   "id": "0f49c0d5",
   "metadata": {},
   "outputs": [
    {
     "name": "stdout",
     "output_type": "stream",
     "text": [
      "Give the number of rows:2\n",
      "Give the number of columns:3\n",
      "Please give the entries row-wise:\n",
      "2\n",
      "1\n",
      "3\n",
      "3\n",
      "3\n",
      "3\n",
      "2 1 3 \n",
      "3 3 3 \n"
     ]
    }
   ],
   "source": [
    "Rows = int(input(\"Give the number of rows:\"))  \n",
    "Columns = int(input(\"Give the number of columns:\"))  \n",
    "  \n",
    "# Initializing the matrix  \n",
    "example_matrix = []  \n",
    "print(\"Please give the entries row-wise:\")  \n",
    "  \n",
    "# For user input  \n",
    "for _ in range(Rows):  # This for loop is to arrange rows  \n",
    "    r = []  \n",
    "    for __ in range(Columns):  # This for loop is to arrange columns  \n",
    "        r.append(int(input()))  \n",
    "    example_matrix.append(r)  \n",
    "  \n",
    "# Printing the matrix given by user  \n",
    "for _ in range(Rows):  \n",
    "    for __ in range(Columns):  \n",
    "        print(example_matrix[_][__], end = \" \")  \n",
    "    print()  "
   ]
  },
  {
   "cell_type": "code",
   "execution_count": 46,
   "id": "f13f9d05",
   "metadata": {},
   "outputs": [
    {
     "name": "stdout",
     "output_type": "stream",
     "text": [
      "Give the number of rows:2\n",
      "Give the number of columns:3\n",
      "Please write the elements of the matrix in a single line and separated by a space: \n",
      "1 2 3 4 5 6\n",
      "[[1 2 3]\n",
      " [4 5 6]]\n"
     ]
    }
   ],
   "source": [
    "import numpy as np  \n",
    "  \n",
    "Rows = int(input(\"Give the number of rows:\"))  \n",
    "Columns = int(input(\"Give the number of columns:\"))  \n",
    "  \n",
    "print(\"Please write the elements of the matrix in a single line and separated by a space: \")  \n",
    "  \n",
    "# User will give the entries in a single line  \n",
    "elements = list(map(int, input().split()))  \n",
    "  \n",
    "# Printing the matrix given by the user  \n",
    "matrixx = np.array(elements).reshape(Rows, Columns)  \n",
    "print(matrixx)  "
   ]
  },
  {
   "cell_type": "code",
   "execution_count": 99,
   "id": "838a0c89",
   "metadata": {},
   "outputs": [
    {
     "data": {
      "text/latex": [
       "$\\displaystyle Copy of a  = \\left[\\begin{matrix}1 & 2 & 3\\\\4 & 5 & 6\\end{matrix}\\right]$"
      ],
      "text/plain": [
       "<IPython.core.display.Math object>"
      ]
     },
     "metadata": {},
     "output_type": "display_data"
    },
    {
     "name": "stdout",
     "output_type": "stream",
     "text": [
      "\\left[\\begin{matrix}1 & 2 & 3\\\\4 & 5 & 6\\end{matrix}\\right]\n"
     ]
    }
   ],
   "source": [
    "# display(Math(sym.latex(sym.simplify(example_matrix))))\n",
    "\n",
    "display(Math(f\"Copy of a  = {sym.latex(sym.simplify(matrixx))}\"))\n",
    "# a = np.array(sym.latex(sym.simplify(matrixx)))\n",
    "print(sym.latex(sym.simplify(matrixx)))"
   ]
  },
  {
   "cell_type": "code",
   "execution_count": 71,
   "id": "56b31995",
   "metadata": {},
   "outputs": [
    {
     "name": "stdout",
     "output_type": "stream",
     "text": [
      "[[1 2 3]\n",
      " [4 5 6]\n",
      " [7 8 9]]\n"
     ]
    }
   ],
   "source": [
    "l = [1,2,3,4,5,6,7,8,9]\n",
    "l2 = [1,2,3,3,5,6]\n",
    "m = np.array(l).reshape(3,3)\n",
    "\n",
    "print(m)\n"
   ]
  },
  {
   "cell_type": "code",
   "execution_count": 106,
   "id": "e2cff948",
   "metadata": {},
   "outputs": [
    {
     "name": "stdout",
     "output_type": "stream",
     "text": [
      "[[1, 4], [9, 16]]\n"
     ]
    }
   ],
   "source": [
    "print(m1)\n"
   ]
  },
  {
   "cell_type": "code",
   "execution_count": 11,
   "id": "305f1959",
   "metadata": {},
   "outputs": [
    {
     "name": "stdout",
     "output_type": "stream",
     "text": [
      "Please enter a integer value for rows and columns = 5\n",
      "no_of_emelents = 25\n",
      "\n",
      "Enter 25 elements row wise\n",
      "0 position element = 1\n",
      "1 position element = 2\n",
      "2 position element = 3\n",
      "3 position element = 4\n",
      "4 position element = 345\n",
      "5 position element = 34\n",
      "6 position element = 3\n",
      "7 position element = 23\n",
      "8 position element = 12\n",
      "9 position element = 34\n",
      "10 position element = 34\n",
      "11 position element = 3\n",
      "12 position element = 2\n",
      "13 position element = 123\n",
      "14 position element = 12\n",
      "15 position element = 2\n",
      "16 position element = 323\n",
      "17 position element = 4324\n",
      "18 position element = 234\n",
      "19 position element = 23\n",
      "20 position element = 22\n",
      "21 position element = 3\n",
      "22 position element = 12\n",
      "23 position element = 13\n",
      "24 position element = 3\n"
     ]
    },
    {
     "data": {
      "text/latex": [
       "$\\displaystyle m1 = \\left[\\begin{matrix}1 & 2 & 3 & 4 & 345\\\\34 & 3 & 23 & 12 & 34\\\\34 & 3 & 2 & 123 & 12\\\\2 & 323 & 4324 & 234 & 23\\\\22 & 3 & 12 & 13 & 3\\end{matrix}\\right]$"
      ],
      "text/plain": [
       "<IPython.core.display.Math object>"
      ]
     },
     "metadata": {},
     "output_type": "display_data"
    },
    {
     "data": {
      "text/latex": [
       "$\\displaystyle copy_m1 = \\left[\\begin{matrix}1 & 2 & 3 & 4 & 345\\\\34 & 3 & 23 & 12 & 34\\\\34 & 3 & 2 & 123 & 12\\\\2 & 323 & 4324 & 234 & 23\\\\22 & 3 & 12 & 13 & 3\\end{matrix}\\right]$"
      ],
      "text/plain": [
       "<IPython.core.display.Math object>"
      ]
     },
     "metadata": {},
     "output_type": "display_data"
    },
    {
     "name": "stdout",
     "output_type": "stream",
     "text": [
      "Enter how many times the matrix should multiply = 3\n",
      "\n",
      "The Value of A power is 3\n"
     ]
    },
    {
     "data": {
      "text/latex": [
       "$\\displaystyle Final Matrix = \\left[\\begin{matrix}864467 & 1970985 & 25296145 & 4084497 & 3156435\\\\2214542 & 2229822 & 27384104 & 8140399 & 1534653\\\\19831934 & 11243636 & 129094984 & 72998742 & 8706565\\\\40863012 & 194703787 & 2560002396 & 267318810 & 84025620\\\\2253090 & 1719755 & 20551889 & 8193347 & 1170357\\end{matrix}\\right]$"
      ],
      "text/plain": [
       "<IPython.core.display.Math object>"
      ]
     },
     "metadata": {},
     "output_type": "display_data"
    }
   ],
   "source": [
    "import numpy as np\n",
    "import sympy as sym # This library is used to calculate and display the matrix\n",
    "from IPython.display import Math,display\n",
    "\n",
    "\n",
    "n = int(input(\"Please enter a integer value for rows and columns = \"))\n",
    "\n",
    "no_of_elements = n*n\n",
    "print(f\"no_of_emelents = {no_of_elements}\")\n",
    "l = []\n",
    "print(f\"\\nEnter {no_of_elements} elements row wise\")\n",
    "for i in range(no_of_elements):\n",
    "    l.append(int(input(f\"{i} position element = \")))\n",
    "    \n",
    "m1 = np.array(l).reshape(n,n) # Matrix 1\n",
    "# print(m1)\n",
    "\n",
    "\n",
    "\n",
    "# m1  = sym.latex(sym.simplify(m1))\n",
    "copy_m1 = sym.Matrix(sym.simplify(m1)) # copy of m1\n",
    "\n",
    "\n",
    "\n",
    "display(Math(f\"m1 = {sym.latex(sym.Matrix(sym.simplify(m1)))}\"))\n",
    "display(Math(f\"copy_m1 = {sym.latex(copy_m1)}\"))\n",
    "\n",
    "\n",
    "mat_mul = int(input(\"Enter how many times the matrix should multiply = \") )\n",
    "if mat_mul>1:\n",
    "    for i in range(mat_mul-1):\n",
    "        m1 = sym.Matrix(sym.simplify(m1*copy_m1))\n",
    "    print(f\"\\nThe Value of A power is {mat_mul}\")\n",
    "        \n",
    "    display(Math(f\"Final Matrix = {sym.latex(sym.simplify(m1))}\"))\n",
    "else:\n",
    "    print(f\"\\nThe Value of A power is {mat_mul}\")\n",
    "    display(Math(f\"Final out put = {sym.latex(sym.Matrix(sym.simplify(m1)))}\"))\n",
    "    \n",
    "#     display(m1)\n"
   ]
  },
  {
   "cell_type": "markdown",
   "id": "31577b35",
   "metadata": {},
   "source": [
    "#### "
   ]
  },
  {
   "cell_type": "code",
   "execution_count": null,
   "id": "f6ad3f73",
   "metadata": {},
   "outputs": [],
   "source": []
  }
 ],
 "metadata": {
  "kernelspec": {
   "display_name": "Python 3 (ipykernel)",
   "language": "python",
   "name": "python3"
  },
  "language_info": {
   "codemirror_mode": {
    "name": "ipython",
    "version": 3
   },
   "file_extension": ".py",
   "mimetype": "text/x-python",
   "name": "python",
   "nbconvert_exporter": "python",
   "pygments_lexer": "ipython3",
   "version": "3.10.9"
  }
 },
 "nbformat": 4,
 "nbformat_minor": 5
}
